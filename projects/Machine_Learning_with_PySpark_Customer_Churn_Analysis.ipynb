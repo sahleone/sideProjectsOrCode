{
  "cells": [
    {
      "cell_type": "markdown",
      "metadata": {
        "id": "xEcr4jdzTP7t"
      },
      "source": [
        "# **Welcome To the Notebook**\n"
      ]
    },
    {
      "cell_type": "code",
      "source": [],
      "metadata": {
        "id": "fSQauCk_On8_"
      },
      "execution_count": null,
      "outputs": []
    },
    {
      "cell_type": "code",
      "source": [
        "from google.colab import drive\n",
        "drive.mount('/content/drive')"
      ],
      "metadata": {
        "colab": {
          "base_uri": "https://localhost:8080/"
        },
        "id": "1v2gfOqFOpC5",
        "outputId": "2c00e966-c75c-4551-ca79-169942a62b9f"
      },
      "execution_count": 1,
      "outputs": [
        {
          "output_type": "stream",
          "name": "stdout",
          "text": [
            "Mounted at /content/drive\n"
          ]
        }
      ]
    },
    {
      "cell_type": "markdown",
      "metadata": {
        "id": "O1eOogPqix4i"
      },
      "source": [
        "### **Task 1 - Loading our data**\n",
        "\n",
        "Installing the pyspark using pip"
      ]
    },
    {
      "cell_type": "code",
      "execution_count": 2,
      "metadata": {
        "colab": {
          "base_uri": "https://localhost:8080/"
        },
        "id": "pYfUECtFisDa",
        "outputId": "dd3ee167-4c94-4f06-930c-8f0b632f77ec"
      },
      "outputs": [
        {
          "output_type": "stream",
          "name": "stdout",
          "text": [
            "Collecting pyspark\n",
            "  Downloading pyspark-3.5.1.tar.gz (317.0 MB)\n",
            "\u001b[2K     \u001b[90m━━━━━━━━━━━━━━━━━━━━━━━━━━━━━━━━━━━━━━━━\u001b[0m \u001b[32m317.0/317.0 MB\u001b[0m \u001b[31m1.4 MB/s\u001b[0m eta \u001b[36m0:00:00\u001b[0m\n",
            "\u001b[?25h  Preparing metadata (setup.py) ... \u001b[?25l\u001b[?25hdone\n",
            "Requirement already satisfied: py4j==0.10.9.7 in /usr/local/lib/python3.10/dist-packages (from pyspark) (0.10.9.7)\n",
            "Building wheels for collected packages: pyspark\n",
            "  Building wheel for pyspark (setup.py) ... \u001b[?25l\u001b[?25hdone\n",
            "  Created wheel for pyspark: filename=pyspark-3.5.1-py2.py3-none-any.whl size=317488491 sha256=f29f7af56155aba1c14885d5cc97c3cbe4ddcc7b7cd16d131aa4b70f3dcb06c7\n",
            "  Stored in directory: /root/.cache/pip/wheels/80/1d/60/2c256ed38dddce2fdd93be545214a63e02fbd8d74fb0b7f3a6\n",
            "Successfully built pyspark\n",
            "Installing collected packages: pyspark\n",
            "Successfully installed pyspark-3.5.1\n"
          ]
        }
      ],
      "source": [
        "!pip install pyspark"
      ]
    },
    {
      "cell_type": "markdown",
      "metadata": {
        "id": "cr4LlOxmvUmW"
      },
      "source": [
        "Importing Modules"
      ]
    },
    {
      "cell_type": "code",
      "execution_count": 3,
      "metadata": {
        "id": "tiE8RPAHvWHD"
      },
      "outputs": [],
      "source": [
        "# importing spark session\n",
        "from pyspark.sql import SparkSession\n",
        "\n",
        "# data visualization modules\n",
        "import matplotlib.pyplot as plt\n",
        "import plotly.express as px\n",
        "\n",
        "# pandas module\n",
        "import pandas as pd\n",
        "\n",
        "# pyspark SQL functions\n",
        "from pyspark.sql.functions import col, when, count, udf\n",
        "\n",
        "# pyspark data preprocessing modules\n",
        "from pyspark.ml.feature import Imputer, StringIndexer, VectorAssembler, StandardScaler\n",
        "\n",
        "# pyspark data modeling and model evaluation modules\n",
        "from pyspark.ml.classification import DecisionTreeClassifier\n",
        "from pyspark.ml.evaluation import BinaryClassificationEvaluator\n"
      ]
    },
    {
      "cell_type": "markdown",
      "metadata": {
        "id": "W-_0aGYvj6sI"
      },
      "source": [
        "Building our Spark Session"
      ]
    },
    {
      "cell_type": "code",
      "execution_count": 4,
      "metadata": {
        "colab": {
          "base_uri": "https://localhost:8080/",
          "height": 219
        },
        "id": "qQgz_0Zgiilu",
        "outputId": "07376f2b-2394-4595-9744-a0f21e079e4e"
      },
      "outputs": [
        {
          "output_type": "execute_result",
          "data": {
            "text/plain": [
              "<pyspark.sql.session.SparkSession at 0x7dcdee0f2ec0>"
            ],
            "text/html": [
              "\n",
              "            <div>\n",
              "                <p><b>SparkSession - in-memory</b></p>\n",
              "                \n",
              "        <div>\n",
              "            <p><b>SparkContext</b></p>\n",
              "\n",
              "            <p><a href=\"http://f801d4e0b0c2:4040\">Spark UI</a></p>\n",
              "\n",
              "            <dl>\n",
              "              <dt>Version</dt>\n",
              "                <dd><code>v3.5.1</code></dd>\n",
              "              <dt>Master</dt>\n",
              "                <dd><code>local[*]</code></dd>\n",
              "              <dt>AppName</dt>\n",
              "                <dd><code>Customer_Churn_Prediction</code></dd>\n",
              "            </dl>\n",
              "        </div>\n",
              "        \n",
              "            </div>\n",
              "        "
            ]
          },
          "metadata": {},
          "execution_count": 4
        }
      ],
      "source": [
        "spark = SparkSession.builder.appName(\"Customer_Churn_Prediction\").getOrCreate()\n",
        "spark"
      ]
    },
    {
      "cell_type": "markdown",
      "metadata": {
        "id": "B1aneLUYvh71"
      },
      "source": [
        "Loading our data"
      ]
    },
    {
      "cell_type": "code",
      "execution_count": 5,
      "metadata": {
        "colab": {
          "base_uri": "https://localhost:8080/"
        },
        "id": "J3Y1melCvqN5",
        "outputId": "699ea17c-7ccc-451b-f814-962e7583aa2e"
      },
      "outputs": [
        {
          "output_type": "stream",
          "name": "stdout",
          "text": [
            "+----------+------+-------------+-------+----------+------+------------+----------------+---------------+--------------+------------+----------------+-----------+-----------+---------------+--------------+----------------+--------------------+--------------+------------+-----+\n",
            "|customerID|gender|SeniorCitizen|Partner|Dependents|tenure|PhoneService|   MultipleLines|InternetService|OnlineSecurity|OnlineBackup|DeviceProtection|TechSupport|StreamingTV|StreamingMovies|      Contract|PaperlessBilling|       PaymentMethod|MonthlyCharges|TotalCharges|Churn|\n",
            "+----------+------+-------------+-------+----------+------+------------+----------------+---------------+--------------+------------+----------------+-----------+-----------+---------------+--------------+----------------+--------------------+--------------+------------+-----+\n",
            "|7590-VHVEG|Female|           No|    Yes|        No|     1|          No|No phone service|            DSL|            No|         Yes|              No|         No|         No|             No|Month-to-month|             Yes|    Electronic check|         29.85|       29.85|   No|\n",
            "|5575-GNVDE|  Male|           No|     No|        No|    34|         Yes|              No|            DSL|           Yes|          No|             Yes|         No|         No|             No|      One year|              No|        Mailed check|         56.95|      1889.5|   No|\n",
            "|3668-QPYBK|  Male|           No|     No|        No|     2|         Yes|              No|            DSL|           Yes|         Yes|              No|         No|         No|             No|Month-to-month|             Yes|        Mailed check|         53.85|      108.15|  Yes|\n",
            "|7795-CFOCW|  Male|           No|     No|        No|    45|          No|No phone service|            DSL|           Yes|          No|             Yes|        Yes|         No|             No|      One year|              No|Bank transfer (au...|          42.3|     1840.75|   No|\n",
            "|9237-HQITU|Female|           No|     No|        No|     2|         Yes|              No|    Fiber optic|            No|          No|              No|         No|         No|             No|Month-to-month|             Yes|    Electronic check|          70.7|      151.65|  Yes|\n",
            "+----------+------+-------------+-------+----------+------+------------+----------------+---------------+--------------+------------+----------------+-----------+-----------+---------------+--------------+----------------+--------------------+--------------+------------+-----+\n",
            "only showing top 5 rows\n",
            "\n"
          ]
        }
      ],
      "source": [
        "dataset_path = '/content/drive/MyDrive/code/coursera projects/Machine Learning with PySpark: Customer Churn Analysis/data/dataset.csv'\n",
        "data = spark.read.csv(path = dataset_path, inferSchema=True,header=True)\n",
        "data.show(5)"
      ]
    },
    {
      "cell_type": "markdown",
      "metadata": {
        "id": "TeY_Znoi4WQA"
      },
      "source": [
        "Print the data schema to check out the data types"
      ]
    },
    {
      "cell_type": "code",
      "execution_count": 6,
      "metadata": {
        "colab": {
          "base_uri": "https://localhost:8080/"
        },
        "id": "6yopaRXr4Ufr",
        "outputId": "b31a0f81-c37d-414d-b22c-d61ff5429ae7"
      },
      "outputs": [
        {
          "output_type": "stream",
          "name": "stdout",
          "text": [
            "root\n",
            " |-- customerID: string (nullable = true)\n",
            " |-- gender: string (nullable = true)\n",
            " |-- SeniorCitizen: string (nullable = true)\n",
            " |-- Partner: string (nullable = true)\n",
            " |-- Dependents: string (nullable = true)\n",
            " |-- tenure: integer (nullable = true)\n",
            " |-- PhoneService: string (nullable = true)\n",
            " |-- MultipleLines: string (nullable = true)\n",
            " |-- InternetService: string (nullable = true)\n",
            " |-- OnlineSecurity: string (nullable = true)\n",
            " |-- OnlineBackup: string (nullable = true)\n",
            " |-- DeviceProtection: string (nullable = true)\n",
            " |-- TechSupport: string (nullable = true)\n",
            " |-- StreamingTV: string (nullable = true)\n",
            " |-- StreamingMovies: string (nullable = true)\n",
            " |-- Contract: string (nullable = true)\n",
            " |-- PaperlessBilling: string (nullable = true)\n",
            " |-- PaymentMethod: string (nullable = true)\n",
            " |-- MonthlyCharges: double (nullable = true)\n",
            " |-- TotalCharges: double (nullable = true)\n",
            " |-- Churn: string (nullable = true)\n",
            "\n"
          ]
        }
      ],
      "source": [
        "data.printSchema()"
      ]
    },
    {
      "cell_type": "markdown",
      "metadata": {
        "id": "Od0SPukD3kPI"
      },
      "source": [
        "Get the data dimension"
      ]
    },
    {
      "cell_type": "code",
      "execution_count": 7,
      "metadata": {
        "colab": {
          "base_uri": "https://localhost:8080/"
        },
        "id": "EW0B267Wv0tm",
        "outputId": "a7719dbd-3e68-4b93-a6a4-a24f47da9179"
      },
      "outputs": [
        {
          "output_type": "execute_result",
          "data": {
            "text/plain": [
              "(7043, 21)"
            ]
          },
          "metadata": {},
          "execution_count": 7
        }
      ],
      "source": [
        "data.count(), len(data.columns)"
      ]
    },
    {
      "cell_type": "markdown",
      "metadata": {
        "id": "oZzDBEKT2H9P"
      },
      "source": [
        "### **Task 2 - Exploratory Data Analysis**\n",
        "- Distribution Analysis\n",
        "- Correlation Analysis\n",
        "- Univariate Analysis\n",
        "- Finding Missing values"
      ]
    },
    {
      "cell_type": "markdown",
      "metadata": {
        "id": "VUWEEw9VTVor"
      },
      "source": [
        "Let's define some lists to store different column names with different data types."
      ]
    },
    {
      "cell_type": "code",
      "execution_count": 8,
      "metadata": {
        "colab": {
          "base_uri": "https://localhost:8080/"
        },
        "id": "H4cJoyG-Ubel",
        "outputId": "7b9ea7fd-28f7-4c6e-f1ef-3c43d9293e83"
      },
      "outputs": [
        {
          "output_type": "execute_result",
          "data": {
            "text/plain": [
              "[('customerID', 'string'),\n",
              " ('gender', 'string'),\n",
              " ('SeniorCitizen', 'string'),\n",
              " ('Partner', 'string'),\n",
              " ('Dependents', 'string'),\n",
              " ('tenure', 'int'),\n",
              " ('PhoneService', 'string'),\n",
              " ('MultipleLines', 'string'),\n",
              " ('InternetService', 'string'),\n",
              " ('OnlineSecurity', 'string'),\n",
              " ('OnlineBackup', 'string'),\n",
              " ('DeviceProtection', 'string'),\n",
              " ('TechSupport', 'string'),\n",
              " ('StreamingTV', 'string'),\n",
              " ('StreamingMovies', 'string'),\n",
              " ('Contract', 'string'),\n",
              " ('PaperlessBilling', 'string'),\n",
              " ('PaymentMethod', 'string'),\n",
              " ('MonthlyCharges', 'double'),\n",
              " ('TotalCharges', 'double'),\n",
              " ('Churn', 'string')]"
            ]
          },
          "metadata": {},
          "execution_count": 8
        }
      ],
      "source": [
        "data.dtypes"
      ]
    },
    {
      "cell_type": "markdown",
      "metadata": {
        "id": "DYoYREY75vfo"
      },
      "source": [
        "Let's get all the numerical features and store them into a pandas dataframe."
      ]
    },
    {
      "cell_type": "code",
      "execution_count": 9,
      "metadata": {
        "colab": {
          "base_uri": "https://localhost:8080/",
          "height": 206
        },
        "id": "CWYeP2xp45Ot",
        "outputId": "6012af7f-4e21-43e6-81db-6b79e784d815"
      },
      "outputs": [
        {
          "output_type": "execute_result",
          "data": {
            "text/plain": [
              "   tenure  MonthlyCharges  TotalCharges\n",
              "0       1           29.85         29.85\n",
              "1      34           56.95       1889.50\n",
              "2       2           53.85        108.15\n",
              "3      45           42.30       1840.75\n",
              "4       2           70.70        151.65"
            ],
            "text/html": [
              "\n",
              "  <div id=\"df-f9710706-232a-4859-9510-fb42b07e913a\" class=\"colab-df-container\">\n",
              "    <div>\n",
              "<style scoped>\n",
              "    .dataframe tbody tr th:only-of-type {\n",
              "        vertical-align: middle;\n",
              "    }\n",
              "\n",
              "    .dataframe tbody tr th {\n",
              "        vertical-align: top;\n",
              "    }\n",
              "\n",
              "    .dataframe thead th {\n",
              "        text-align: right;\n",
              "    }\n",
              "</style>\n",
              "<table border=\"1\" class=\"dataframe\">\n",
              "  <thead>\n",
              "    <tr style=\"text-align: right;\">\n",
              "      <th></th>\n",
              "      <th>tenure</th>\n",
              "      <th>MonthlyCharges</th>\n",
              "      <th>TotalCharges</th>\n",
              "    </tr>\n",
              "  </thead>\n",
              "  <tbody>\n",
              "    <tr>\n",
              "      <th>0</th>\n",
              "      <td>1</td>\n",
              "      <td>29.85</td>\n",
              "      <td>29.85</td>\n",
              "    </tr>\n",
              "    <tr>\n",
              "      <th>1</th>\n",
              "      <td>34</td>\n",
              "      <td>56.95</td>\n",
              "      <td>1889.50</td>\n",
              "    </tr>\n",
              "    <tr>\n",
              "      <th>2</th>\n",
              "      <td>2</td>\n",
              "      <td>53.85</td>\n",
              "      <td>108.15</td>\n",
              "    </tr>\n",
              "    <tr>\n",
              "      <th>3</th>\n",
              "      <td>45</td>\n",
              "      <td>42.30</td>\n",
              "      <td>1840.75</td>\n",
              "    </tr>\n",
              "    <tr>\n",
              "      <th>4</th>\n",
              "      <td>2</td>\n",
              "      <td>70.70</td>\n",
              "      <td>151.65</td>\n",
              "    </tr>\n",
              "  </tbody>\n",
              "</table>\n",
              "</div>\n",
              "    <div class=\"colab-df-buttons\">\n",
              "\n",
              "  <div class=\"colab-df-container\">\n",
              "    <button class=\"colab-df-convert\" onclick=\"convertToInteractive('df-f9710706-232a-4859-9510-fb42b07e913a')\"\n",
              "            title=\"Convert this dataframe to an interactive table.\"\n",
              "            style=\"display:none;\">\n",
              "\n",
              "  <svg xmlns=\"http://www.w3.org/2000/svg\" height=\"24px\" viewBox=\"0 -960 960 960\">\n",
              "    <path d=\"M120-120v-720h720v720H120Zm60-500h600v-160H180v160Zm220 220h160v-160H400v160Zm0 220h160v-160H400v160ZM180-400h160v-160H180v160Zm440 0h160v-160H620v160ZM180-180h160v-160H180v160Zm440 0h160v-160H620v160Z\"/>\n",
              "  </svg>\n",
              "    </button>\n",
              "\n",
              "  <style>\n",
              "    .colab-df-container {\n",
              "      display:flex;\n",
              "      gap: 12px;\n",
              "    }\n",
              "\n",
              "    .colab-df-convert {\n",
              "      background-color: #E8F0FE;\n",
              "      border: none;\n",
              "      border-radius: 50%;\n",
              "      cursor: pointer;\n",
              "      display: none;\n",
              "      fill: #1967D2;\n",
              "      height: 32px;\n",
              "      padding: 0 0 0 0;\n",
              "      width: 32px;\n",
              "    }\n",
              "\n",
              "    .colab-df-convert:hover {\n",
              "      background-color: #E2EBFA;\n",
              "      box-shadow: 0px 1px 2px rgba(60, 64, 67, 0.3), 0px 1px 3px 1px rgba(60, 64, 67, 0.15);\n",
              "      fill: #174EA6;\n",
              "    }\n",
              "\n",
              "    .colab-df-buttons div {\n",
              "      margin-bottom: 4px;\n",
              "    }\n",
              "\n",
              "    [theme=dark] .colab-df-convert {\n",
              "      background-color: #3B4455;\n",
              "      fill: #D2E3FC;\n",
              "    }\n",
              "\n",
              "    [theme=dark] .colab-df-convert:hover {\n",
              "      background-color: #434B5C;\n",
              "      box-shadow: 0px 1px 3px 1px rgba(0, 0, 0, 0.15);\n",
              "      filter: drop-shadow(0px 1px 2px rgba(0, 0, 0, 0.3));\n",
              "      fill: #FFFFFF;\n",
              "    }\n",
              "  </style>\n",
              "\n",
              "    <script>\n",
              "      const buttonEl =\n",
              "        document.querySelector('#df-f9710706-232a-4859-9510-fb42b07e913a button.colab-df-convert');\n",
              "      buttonEl.style.display =\n",
              "        google.colab.kernel.accessAllowed ? 'block' : 'none';\n",
              "\n",
              "      async function convertToInteractive(key) {\n",
              "        const element = document.querySelector('#df-f9710706-232a-4859-9510-fb42b07e913a');\n",
              "        const dataTable =\n",
              "          await google.colab.kernel.invokeFunction('convertToInteractive',\n",
              "                                                    [key], {});\n",
              "        if (!dataTable) return;\n",
              "\n",
              "        const docLinkHtml = 'Like what you see? Visit the ' +\n",
              "          '<a target=\"_blank\" href=https://colab.research.google.com/notebooks/data_table.ipynb>data table notebook</a>'\n",
              "          + ' to learn more about interactive tables.';\n",
              "        element.innerHTML = '';\n",
              "        dataTable['output_type'] = 'display_data';\n",
              "        await google.colab.output.renderOutput(dataTable, element);\n",
              "        const docLink = document.createElement('div');\n",
              "        docLink.innerHTML = docLinkHtml;\n",
              "        element.appendChild(docLink);\n",
              "      }\n",
              "    </script>\n",
              "  </div>\n",
              "\n",
              "\n",
              "<div id=\"df-75953de6-1803-4235-8049-bffe4d12f4a3\">\n",
              "  <button class=\"colab-df-quickchart\" onclick=\"quickchart('df-75953de6-1803-4235-8049-bffe4d12f4a3')\"\n",
              "            title=\"Suggest charts\"\n",
              "            style=\"display:none;\">\n",
              "\n",
              "<svg xmlns=\"http://www.w3.org/2000/svg\" height=\"24px\"viewBox=\"0 0 24 24\"\n",
              "     width=\"24px\">\n",
              "    <g>\n",
              "        <path d=\"M19 3H5c-1.1 0-2 .9-2 2v14c0 1.1.9 2 2 2h14c1.1 0 2-.9 2-2V5c0-1.1-.9-2-2-2zM9 17H7v-7h2v7zm4 0h-2V7h2v10zm4 0h-2v-4h2v4z\"/>\n",
              "    </g>\n",
              "</svg>\n",
              "  </button>\n",
              "\n",
              "<style>\n",
              "  .colab-df-quickchart {\n",
              "      --bg-color: #E8F0FE;\n",
              "      --fill-color: #1967D2;\n",
              "      --hover-bg-color: #E2EBFA;\n",
              "      --hover-fill-color: #174EA6;\n",
              "      --disabled-fill-color: #AAA;\n",
              "      --disabled-bg-color: #DDD;\n",
              "  }\n",
              "\n",
              "  [theme=dark] .colab-df-quickchart {\n",
              "      --bg-color: #3B4455;\n",
              "      --fill-color: #D2E3FC;\n",
              "      --hover-bg-color: #434B5C;\n",
              "      --hover-fill-color: #FFFFFF;\n",
              "      --disabled-bg-color: #3B4455;\n",
              "      --disabled-fill-color: #666;\n",
              "  }\n",
              "\n",
              "  .colab-df-quickchart {\n",
              "    background-color: var(--bg-color);\n",
              "    border: none;\n",
              "    border-radius: 50%;\n",
              "    cursor: pointer;\n",
              "    display: none;\n",
              "    fill: var(--fill-color);\n",
              "    height: 32px;\n",
              "    padding: 0;\n",
              "    width: 32px;\n",
              "  }\n",
              "\n",
              "  .colab-df-quickchart:hover {\n",
              "    background-color: var(--hover-bg-color);\n",
              "    box-shadow: 0 1px 2px rgba(60, 64, 67, 0.3), 0 1px 3px 1px rgba(60, 64, 67, 0.15);\n",
              "    fill: var(--button-hover-fill-color);\n",
              "  }\n",
              "\n",
              "  .colab-df-quickchart-complete:disabled,\n",
              "  .colab-df-quickchart-complete:disabled:hover {\n",
              "    background-color: var(--disabled-bg-color);\n",
              "    fill: var(--disabled-fill-color);\n",
              "    box-shadow: none;\n",
              "  }\n",
              "\n",
              "  .colab-df-spinner {\n",
              "    border: 2px solid var(--fill-color);\n",
              "    border-color: transparent;\n",
              "    border-bottom-color: var(--fill-color);\n",
              "    animation:\n",
              "      spin 1s steps(1) infinite;\n",
              "  }\n",
              "\n",
              "  @keyframes spin {\n",
              "    0% {\n",
              "      border-color: transparent;\n",
              "      border-bottom-color: var(--fill-color);\n",
              "      border-left-color: var(--fill-color);\n",
              "    }\n",
              "    20% {\n",
              "      border-color: transparent;\n",
              "      border-left-color: var(--fill-color);\n",
              "      border-top-color: var(--fill-color);\n",
              "    }\n",
              "    30% {\n",
              "      border-color: transparent;\n",
              "      border-left-color: var(--fill-color);\n",
              "      border-top-color: var(--fill-color);\n",
              "      border-right-color: var(--fill-color);\n",
              "    }\n",
              "    40% {\n",
              "      border-color: transparent;\n",
              "      border-right-color: var(--fill-color);\n",
              "      border-top-color: var(--fill-color);\n",
              "    }\n",
              "    60% {\n",
              "      border-color: transparent;\n",
              "      border-right-color: var(--fill-color);\n",
              "    }\n",
              "    80% {\n",
              "      border-color: transparent;\n",
              "      border-right-color: var(--fill-color);\n",
              "      border-bottom-color: var(--fill-color);\n",
              "    }\n",
              "    90% {\n",
              "      border-color: transparent;\n",
              "      border-bottom-color: var(--fill-color);\n",
              "    }\n",
              "  }\n",
              "</style>\n",
              "\n",
              "  <script>\n",
              "    async function quickchart(key) {\n",
              "      const quickchartButtonEl =\n",
              "        document.querySelector('#' + key + ' button');\n",
              "      quickchartButtonEl.disabled = true;  // To prevent multiple clicks.\n",
              "      quickchartButtonEl.classList.add('colab-df-spinner');\n",
              "      try {\n",
              "        const charts = await google.colab.kernel.invokeFunction(\n",
              "            'suggestCharts', [key], {});\n",
              "      } catch (error) {\n",
              "        console.error('Error during call to suggestCharts:', error);\n",
              "      }\n",
              "      quickchartButtonEl.classList.remove('colab-df-spinner');\n",
              "      quickchartButtonEl.classList.add('colab-df-quickchart-complete');\n",
              "    }\n",
              "    (() => {\n",
              "      let quickchartButtonEl =\n",
              "        document.querySelector('#df-75953de6-1803-4235-8049-bffe4d12f4a3 button');\n",
              "      quickchartButtonEl.style.display =\n",
              "        google.colab.kernel.accessAllowed ? 'block' : 'none';\n",
              "    })();\n",
              "  </script>\n",
              "</div>\n",
              "\n",
              "    </div>\n",
              "  </div>\n"
            ],
            "application/vnd.google.colaboratory.intrinsic+json": {
              "type": "dataframe",
              "variable_name": "df_num_pandas",
              "summary": "{\n  \"name\": \"df_num_pandas\",\n  \"rows\": 7043,\n  \"fields\": [\n    {\n      \"column\": \"tenure\",\n      \"properties\": {\n        \"dtype\": \"int32\",\n        \"num_unique_values\": 74,\n        \"samples\": [\n          8,\n          53,\n          12\n        ],\n        \"semantic_type\": \"\",\n        \"description\": \"\"\n      }\n    },\n    {\n      \"column\": \"MonthlyCharges\",\n      \"properties\": {\n        \"dtype\": \"number\",\n        \"std\": 30.090047097678493,\n        \"min\": 18.25,\n        \"max\": 118.75,\n        \"num_unique_values\": 1585,\n        \"samples\": [\n          48.85,\n          20.05,\n          36.85\n        ],\n        \"semantic_type\": \"\",\n        \"description\": \"\"\n      }\n    },\n    {\n      \"column\": \"TotalCharges\",\n      \"properties\": {\n        \"dtype\": \"number\",\n        \"std\": 2266.771361883145,\n        \"min\": 18.8,\n        \"max\": 8684.8,\n        \"num_unique_values\": 6530,\n        \"samples\": [\n          5594.0,\n          6840.95,\n          6148.45\n        ],\n        \"semantic_type\": \"\",\n        \"description\": \"\"\n      }\n    }\n  ]\n}"
            }
          },
          "metadata": {},
          "execution_count": 9
        }
      ],
      "source": [
        "numerical_columns = [name for name,typ in data.dtypes if typ == \"double\" or typ ==\"int\"]\n",
        "categotical_columns = [name for name,typ in data.dtypes if typ == \"string\"]\n",
        "\n",
        "df_num_pandas = data.select(numerical_columns).toPandas()\n",
        "df_num_pandas.head()"
      ]
    },
    {
      "cell_type": "code",
      "source": [
        "data.select(numerical_columns).describe().show()"
      ],
      "metadata": {
        "colab": {
          "base_uri": "https://localhost:8080/"
        },
        "id": "2XphT2CCUTy5",
        "outputId": "965ec3fc-7141-43e5-b9e4-ad490659335d"
      },
      "execution_count": 10,
      "outputs": [
        {
          "output_type": "stream",
          "name": "stdout",
          "text": [
            "+-------+------------------+------------------+------------------+\n",
            "|summary|            tenure|    MonthlyCharges|      TotalCharges|\n",
            "+-------+------------------+------------------+------------------+\n",
            "|  count|              7043|              7043|              7032|\n",
            "|   mean|32.435751810308105| 64.76169246059922|2283.3004408418697|\n",
            "| stddev| 25.07522813150339|30.090047097678482| 2266.771361883145|\n",
            "|    min|                 0|             18.25|              18.8|\n",
            "|    max|               458|            118.75|            8684.8|\n",
            "+-------+------------------+------------------+------------------+\n",
            "\n"
          ]
        }
      ]
    },
    {
      "cell_type": "markdown",
      "metadata": {
        "id": "PZgNnbgnNtTe"
      },
      "source": [
        "Let's create histograms to analyse the distribution of our numerical columns."
      ]
    },
    {
      "cell_type": "code",
      "execution_count": 11,
      "metadata": {
        "colab": {
          "base_uri": "https://localhost:8080/",
          "height": 580
        },
        "id": "gizkvQ3oNsuo",
        "outputId": "65edd862-e567-48d9-8729-133debb36636"
      },
      "outputs": [
        {
          "output_type": "stream",
          "name": "stderr",
          "text": [
            "<ipython-input-11-eb210f442a5e>:6: UserWarning: To output multiple subplots, the figure containing the passed axes is being cleared.\n",
            "  df_num_pandas.hist(ax = ax, bins=20)\n"
          ]
        },
        {
          "output_type": "display_data",
          "data": {
            "text/plain": [
              "<Figure size 1000x600 with 4 Axes>"
            ],
            "image/png": "[encoded data removed]"
          },
          "metadata": {}
        }
      ],
      "source": [
        "# prompt: Let's create histograms to analyse the distribution of our numerical columns.\n",
        "\n",
        "fig = plt.figure(figsize=(10,6))\n",
        "ax = fig.gca()\n",
        "\n",
        "df_num_pandas.hist(ax = ax, bins=20)\n",
        "\n",
        "plt.show()\n"
      ]
    },
    {
      "cell_type": "code",
      "source": [
        "fig = plt.figure(figsize=(10,6))\n",
        "ax = fig.gca()\n",
        "\n",
        "df_num_pandas.boxplot(ax = ax)\n",
        "\n",
        "plt.show()"
      ],
      "metadata": {
        "colab": {
          "base_uri": "https://localhost:8080/",
          "height": 522
        },
        "id": "wraOh7F5c8mT",
        "outputId": "522da32a-456f-49bd-9459-1e68418ea16c"
      },
      "execution_count": 12,
      "outputs": [
        {
          "output_type": "display_data",
          "data": {
            "text/plain": [
              "<Figure size 1000x600 with 1 Axes>"
            ],
            "image/png": "[encoded data removed]"
          },
          "metadata": {}
        }
      ]
    },
    {
      "cell_type": "markdown",
      "source": [
        "outlier in the tenure col"
      ],
      "metadata": {
        "id": "xMLdYnkTc3W-"
      }
    },
    {
      "cell_type": "code",
      "source": [],
      "metadata": {
        "id": "COmmrAEKUPIu"
      },
      "execution_count": 12,
      "outputs": []
    },
    {
      "cell_type": "markdown",
      "metadata": {
        "id": "9qjCcR72ru2_"
      },
      "source": [
        "Let's generate the correlation matrix"
      ]
    },
    {
      "cell_type": "code",
      "execution_count": 13,
      "metadata": {
        "colab": {
          "base_uri": "https://localhost:8080/",
          "height": 143
        },
        "id": "ldNx2GuVrvAR",
        "outputId": "153ceb5e-43ca-47c0-d8fb-1f57ba36c722"
      },
      "outputs": [
        {
          "output_type": "execute_result",
          "data": {
            "text/plain": [
              "                  tenure  MonthlyCharges  TotalCharges\n",
              "tenure          1.000000        0.242673      0.806530\n",
              "MonthlyCharges  0.242673        1.000000      0.651065\n",
              "TotalCharges    0.806530        0.651065      1.000000"
            ],
            "text/html": [
              "\n",
              "  <div id=\"df-0dffa16b-18cb-4bab-b996-682788682234\" class=\"colab-df-container\">\n",
              "    <div>\n",
              "<style scoped>\n",
              "    .dataframe tbody tr th:only-of-type {\n",
              "        vertical-align: middle;\n",
              "    }\n",
              "\n",
              "    .dataframe tbody tr th {\n",
              "        vertical-align: top;\n",
              "    }\n",
              "\n",
              "    .dataframe thead th {\n",
              "        text-align: right;\n",
              "    }\n",
              "</style>\n",
              "<table border=\"1\" class=\"dataframe\">\n",
              "  <thead>\n",
              "    <tr style=\"text-align: right;\">\n",
              "      <th></th>\n",
              "      <th>tenure</th>\n",
              "      <th>MonthlyCharges</th>\n",
              "      <th>TotalCharges</th>\n",
              "    </tr>\n",
              "  </thead>\n",
              "  <tbody>\n",
              "    <tr>\n",
              "      <th>tenure</th>\n",
              "      <td>1.000000</td>\n",
              "      <td>0.242673</td>\n",
              "      <td>0.806530</td>\n",
              "    </tr>\n",
              "    <tr>\n",
              "      <th>MonthlyCharges</th>\n",
              "      <td>0.242673</td>\n",
              "      <td>1.000000</td>\n",
              "      <td>0.651065</td>\n",
              "    </tr>\n",
              "    <tr>\n",
              "      <th>TotalCharges</th>\n",
              "      <td>0.806530</td>\n",
              "      <td>0.651065</td>\n",
              "      <td>1.000000</td>\n",
              "    </tr>\n",
              "  </tbody>\n",
              "</table>\n",
              "</div>\n",
              "    <div class=\"colab-df-buttons\">\n",
              "\n",
              "  <div class=\"colab-df-container\">\n",
              "    <button class=\"colab-df-convert\" onclick=\"convertToInteractive('df-0dffa16b-18cb-4bab-b996-682788682234')\"\n",
              "            title=\"Convert this dataframe to an interactive table.\"\n",
              "            style=\"display:none;\">\n",
              "\n",
              "  <svg xmlns=\"http://www.w3.org/2000/svg\" height=\"24px\" viewBox=\"0 -960 960 960\">\n",
              "    <path d=\"M120-120v-720h720v720H120Zm60-500h600v-160H180v160Zm220 220h160v-160H400v160Zm0 220h160v-160H400v160ZM180-400h160v-160H180v160Zm440 0h160v-160H620v160ZM180-180h160v-160H180v160Zm440 0h160v-160H620v160Z\"/>\n",
              "  </svg>\n",
              "    </button>\n",
              "\n",
              "  <style>\n",
              "    .colab-df-container {\n",
              "      display:flex;\n",
              "      gap: 12px;\n",
              "    }\n",
              "\n",
              "    .colab-df-convert {\n",
              "      background-color: #E8F0FE;\n",
              "      border: none;\n",
              "      border-radius: 50%;\n",
              "      cursor: pointer;\n",
              "      display: none;\n",
              "      fill: #1967D2;\n",
              "      height: 32px;\n",
              "      padding: 0 0 0 0;\n",
              "      width: 32px;\n",
              "    }\n",
              "\n",
              "    .colab-df-convert:hover {\n",
              "      background-color: #E2EBFA;\n",
              "      box-shadow: 0px 1px 2px rgba(60, 64, 67, 0.3), 0px 1px 3px 1px rgba(60, 64, 67, 0.15);\n",
              "      fill: #174EA6;\n",
              "    }\n",
              "\n",
              "    .colab-df-buttons div {\n",
              "      margin-bottom: 4px;\n",
              "    }\n",
              "\n",
              "    [theme=dark] .colab-df-convert {\n",
              "      background-color: #3B4455;\n",
              "      fill: #D2E3FC;\n",
              "    }\n",
              "\n",
              "    [theme=dark] .colab-df-convert:hover {\n",
              "      background-color: #434B5C;\n",
              "      box-shadow: 0px 1px 3px 1px rgba(0, 0, 0, 0.15);\n",
              "      filter: drop-shadow(0px 1px 2px rgba(0, 0, 0, 0.3));\n",
              "      fill: #FFFFFF;\n",
              "    }\n",
              "  </style>\n",
              "\n",
              "    <script>\n",
              "      const buttonEl =\n",
              "        document.querySelector('#df-0dffa16b-18cb-4bab-b996-682788682234 button.colab-df-convert');\n",
              "      buttonEl.style.display =\n",
              "        google.colab.kernel.accessAllowed ? 'block' : 'none';\n",
              "\n",
              "      async function convertToInteractive(key) {\n",
              "        const element = document.querySelector('#df-0dffa16b-18cb-4bab-b996-682788682234');\n",
              "        const dataTable =\n",
              "          await google.colab.kernel.invokeFunction('convertToInteractive',\n",
              "                                                    [key], {});\n",
              "        if (!dataTable) return;\n",
              "\n",
              "        const docLinkHtml = 'Like what you see? Visit the ' +\n",
              "          '<a target=\"_blank\" href=https://colab.research.google.com/notebooks/data_table.ipynb>data table notebook</a>'\n",
              "          + ' to learn more about interactive tables.';\n",
              "        element.innerHTML = '';\n",
              "        dataTable['output_type'] = 'display_data';\n",
              "        await google.colab.output.renderOutput(dataTable, element);\n",
              "        const docLink = document.createElement('div');\n",
              "        docLink.innerHTML = docLinkHtml;\n",
              "        element.appendChild(docLink);\n",
              "      }\n",
              "    </script>\n",
              "  </div>\n",
              "\n",
              "\n",
              "<div id=\"df-ed0e74c8-2092-404b-a5cf-09cd6fbe1c8d\">\n",
              "  <button class=\"colab-df-quickchart\" onclick=\"quickchart('df-ed0e74c8-2092-404b-a5cf-09cd6fbe1c8d')\"\n",
              "            title=\"Suggest charts\"\n",
              "            style=\"display:none;\">\n",
              "\n",
              "<svg xmlns=\"http://www.w3.org/2000/svg\" height=\"24px\"viewBox=\"0 0 24 24\"\n",
              "     width=\"24px\">\n",
              "    <g>\n",
              "        <path d=\"M19 3H5c-1.1 0-2 .9-2 2v14c0 1.1.9 2 2 2h14c1.1 0 2-.9 2-2V5c0-1.1-.9-2-2-2zM9 17H7v-7h2v7zm4 0h-2V7h2v10zm4 0h-2v-4h2v4z\"/>\n",
              "    </g>\n",
              "</svg>\n",
              "  </button>\n",
              "\n",
              "<style>\n",
              "  .colab-df-quickchart {\n",
              "      --bg-color: #E8F0FE;\n",
              "      --fill-color: #1967D2;\n",
              "      --hover-bg-color: #E2EBFA;\n",
              "      --hover-fill-color: #174EA6;\n",
              "      --disabled-fill-color: #AAA;\n",
              "      --disabled-bg-color: #DDD;\n",
              "  }\n",
              "\n",
              "  [theme=dark] .colab-df-quickchart {\n",
              "      --bg-color: #3B4455;\n",
              "      --fill-color: #D2E3FC;\n",
              "      --hover-bg-color: #434B5C;\n",
              "      --hover-fill-color: #FFFFFF;\n",
              "      --disabled-bg-color: #3B4455;\n",
              "      --disabled-fill-color: #666;\n",
              "  }\n",
              "\n",
              "  .colab-df-quickchart {\n",
              "    background-color: var(--bg-color);\n",
              "    border: none;\n",
              "    border-radius: 50%;\n",
              "    cursor: pointer;\n",
              "    display: none;\n",
              "    fill: var(--fill-color);\n",
              "    height: 32px;\n",
              "    padding: 0;\n",
              "    width: 32px;\n",
              "  }\n",
              "\n",
              "  .colab-df-quickchart:hover {\n",
              "    background-color: var(--hover-bg-color);\n",
              "    box-shadow: 0 1px 2px rgba(60, 64, 67, 0.3), 0 1px 3px 1px rgba(60, 64, 67, 0.15);\n",
              "    fill: var(--button-hover-fill-color);\n",
              "  }\n",
              "\n",
              "  .colab-df-quickchart-complete:disabled,\n",
              "  .colab-df-quickchart-complete:disabled:hover {\n",
              "    background-color: var(--disabled-bg-color);\n",
              "    fill: var(--disabled-fill-color);\n",
              "    box-shadow: none;\n",
              "  }\n",
              "\n",
              "  .colab-df-spinner {\n",
              "    border: 2px solid var(--fill-color);\n",
              "    border-color: transparent;\n",
              "    border-bottom-color: var(--fill-color);\n",
              "    animation:\n",
              "      spin 1s steps(1) infinite;\n",
              "  }\n",
              "\n",
              "  @keyframes spin {\n",
              "    0% {\n",
              "      border-color: transparent;\n",
              "      border-bottom-color: var(--fill-color);\n",
              "      border-left-color: var(--fill-color);\n",
              "    }\n",
              "    20% {\n",
              "      border-color: transparent;\n",
              "      border-left-color: var(--fill-color);\n",
              "      border-top-color: var(--fill-color);\n",
              "    }\n",
              "    30% {\n",
              "      border-color: transparent;\n",
              "      border-left-color: var(--fill-color);\n",
              "      border-top-color: var(--fill-color);\n",
              "      border-right-color: var(--fill-color);\n",
              "    }\n",
              "    40% {\n",
              "      border-color: transparent;\n",
              "      border-right-color: var(--fill-color);\n",
              "      border-top-color: var(--fill-color);\n",
              "    }\n",
              "    60% {\n",
              "      border-color: transparent;\n",
              "      border-right-color: var(--fill-color);\n",
              "    }\n",
              "    80% {\n",
              "      border-color: transparent;\n",
              "      border-right-color: var(--fill-color);\n",
              "      border-bottom-color: var(--fill-color);\n",
              "    }\n",
              "    90% {\n",
              "      border-color: transparent;\n",
              "      border-bottom-color: var(--fill-color);\n",
              "    }\n",
              "  }\n",
              "</style>\n",
              "\n",
              "  <script>\n",
              "    async function quickchart(key) {\n",
              "      const quickchartButtonEl =\n",
              "        document.querySelector('#' + key + ' button');\n",
              "      quickchartButtonEl.disabled = true;  // To prevent multiple clicks.\n",
              "      quickchartButtonEl.classList.add('colab-df-spinner');\n",
              "      try {\n",
              "        const charts = await google.colab.kernel.invokeFunction(\n",
              "            'suggestCharts', [key], {});\n",
              "      } catch (error) {\n",
              "        console.error('Error during call to suggestCharts:', error);\n",
              "      }\n",
              "      quickchartButtonEl.classList.remove('colab-df-spinner');\n",
              "      quickchartButtonEl.classList.add('colab-df-quickchart-complete');\n",
              "    }\n",
              "    (() => {\n",
              "      let quickchartButtonEl =\n",
              "        document.querySelector('#df-ed0e74c8-2092-404b-a5cf-09cd6fbe1c8d button');\n",
              "      quickchartButtonEl.style.display =\n",
              "        google.colab.kernel.accessAllowed ? 'block' : 'none';\n",
              "    })();\n",
              "  </script>\n",
              "</div>\n",
              "\n",
              "    </div>\n",
              "  </div>\n"
            ],
            "application/vnd.google.colaboratory.intrinsic+json": {
              "type": "dataframe",
              "summary": "{\n  \"name\": \"pd\",\n  \"rows\": 3,\n  \"fields\": [\n    {\n      \"column\": \"tenure\",\n      \"properties\": {\n        \"dtype\": \"number\",\n        \"std\": 0.3934692732933063,\n        \"min\": 0.24267348400231095,\n        \"max\": 1.0,\n        \"num_unique_values\": 3,\n        \"samples\": [\n          1.0,\n          0.24267348400231095,\n          0.8065302035568731\n        ],\n        \"semantic_type\": \"\",\n        \"description\": \"\"\n      }\n    },\n    {\n      \"column\": \"MonthlyCharges\",\n      \"properties\": {\n        \"dtype\": \"number\",\n        \"std\": 0.37905203974260965,\n        \"min\": 0.24267348400231095,\n        \"max\": 1.0,\n        \"num_unique_values\": 3,\n        \"samples\": [\n          0.24267348400231095,\n          1.0,\n          0.6510648032262027\n        ],\n        \"semantic_type\": \"\",\n        \"description\": \"\"\n      }\n    },\n    {\n      \"column\": \"TotalCharges\",\n      \"properties\": {\n        \"dtype\": \"number\",\n        \"std\": 0.17481219655356295,\n        \"min\": 0.6510648032262027,\n        \"max\": 1.0,\n        \"num_unique_values\": 3,\n        \"samples\": [\n          0.8065302035568731,\n          0.6510648032262027,\n          1.0\n        ],\n        \"semantic_type\": \"\",\n        \"description\": \"\"\n      }\n    }\n  ]\n}"
            }
          },
          "metadata": {},
          "execution_count": 13
        }
      ],
      "source": [
        "# convert to vector column first\n",
        "from pyspark.ml.stat import Correlation\n",
        "\n",
        "vector_col = \"corr_features\"\n",
        "assembler = VectorAssembler(inputCols=data.select(numerical_columns).columns, outputCol=vector_col,handleInvalid=\"skip\")\n",
        "df_corr = assembler.transform(data.select(numerical_columns)).select(vector_col)\n",
        "\n",
        "# get correlation matrix\n",
        "matrix = Correlation.corr(df_corr, vector_col)\n",
        "\n",
        "result = matrix.collect()[0][\"pearson({})\".format(vector_col)].values\n",
        "pd.DataFrame(result.reshape(-1, len(data.select(numerical_columns).columns)), columns=data.select(numerical_columns).columns, index=data.select(numerical_columns).columns)\n"
      ]
    },
    {
      "cell_type": "markdown",
      "metadata": {
        "id": "vbBRqQQJhmqg"
      },
      "source": [
        "Let's check the unique value count per each categorical variables"
      ]
    },
    {
      "cell_type": "code",
      "execution_count": 14,
      "metadata": {
        "colab": {
          "base_uri": "https://localhost:8080/"
        },
        "id": "pgXj3fjJb0th",
        "outputId": "cbf2716f-b16c-4474-e4ad-463059b0f3c8"
      },
      "outputs": [
        {
          "output_type": "stream",
          "name": "stdout",
          "text": [
            "+------+-----+\n",
            "|gender|count|\n",
            "+------+-----+\n",
            "|Female| 3488|\n",
            "|  Male| 3555|\n",
            "+------+-----+\n",
            "\n",
            "+-------------+-----+\n",
            "|SeniorCitizen|count|\n",
            "+-------------+-----+\n",
            "|           No| 5901|\n",
            "|          Yes| 1142|\n",
            "+-------------+-----+\n",
            "\n",
            "+-------+-----+\n",
            "|Partner|count|\n",
            "+-------+-----+\n",
            "|     No| 3641|\n",
            "|    Yes| 3402|\n",
            "+-------+-----+\n",
            "\n",
            "+----------+-----+\n",
            "|Dependents|count|\n",
            "+----------+-----+\n",
            "|        No| 4933|\n",
            "|       Yes| 2110|\n",
            "+----------+-----+\n",
            "\n",
            "+------------+-----+\n",
            "|PhoneService|count|\n",
            "+------------+-----+\n",
            "|          No|  682|\n",
            "|         Yes| 6361|\n",
            "+------------+-----+\n",
            "\n",
            "+----------------+-----+\n",
            "|   MultipleLines|count|\n",
            "+----------------+-----+\n",
            "|No phone service|  682|\n",
            "|              No| 3390|\n",
            "|             Yes| 2971|\n",
            "+----------------+-----+\n",
            "\n",
            "+---------------+-----+\n",
            "|InternetService|count|\n",
            "+---------------+-----+\n",
            "|    Fiber optic| 3096|\n",
            "|             No| 1526|\n",
            "|            DSL| 2421|\n",
            "+---------------+-----+\n",
            "\n",
            "+-------------------+-----+\n",
            "|     OnlineSecurity|count|\n",
            "+-------------------+-----+\n",
            "|                 No| 3498|\n",
            "|                Yes| 2019|\n",
            "|No internet service| 1526|\n",
            "+-------------------+-----+\n",
            "\n",
            "+-------------------+-----+\n",
            "|       OnlineBackup|count|\n",
            "+-------------------+-----+\n",
            "|                 No| 3088|\n",
            "|                Yes| 2429|\n",
            "|No internet service| 1526|\n",
            "+-------------------+-----+\n",
            "\n",
            "+-------------------+-----+\n",
            "|   DeviceProtection|count|\n",
            "+-------------------+-----+\n",
            "|                 No| 3095|\n",
            "|                Yes| 2422|\n",
            "|No internet service| 1526|\n",
            "+-------------------+-----+\n",
            "\n",
            "+-------------------+-----+\n",
            "|        TechSupport|count|\n",
            "+-------------------+-----+\n",
            "|                 No| 3473|\n",
            "|                Yes| 2044|\n",
            "|No internet service| 1526|\n",
            "+-------------------+-----+\n",
            "\n",
            "+-------------------+-----+\n",
            "|        StreamingTV|count|\n",
            "+-------------------+-----+\n",
            "|                 No| 2810|\n",
            "|                Yes| 2707|\n",
            "|No internet service| 1526|\n",
            "+-------------------+-----+\n",
            "\n",
            "+-------------------+-----+\n",
            "|    StreamingMovies|count|\n",
            "+-------------------+-----+\n",
            "|                 No| 2785|\n",
            "|                Yes| 2732|\n",
            "|No internet service| 1526|\n",
            "+-------------------+-----+\n",
            "\n",
            "+--------------+-----+\n",
            "|      Contract|count|\n",
            "+--------------+-----+\n",
            "|Month-to-month| 3875|\n",
            "|      One year| 1473|\n",
            "|      Two year| 1695|\n",
            "+--------------+-----+\n",
            "\n",
            "+----------------+-----+\n",
            "|PaperlessBilling|count|\n",
            "+----------------+-----+\n",
            "|              No| 2872|\n",
            "|             Yes| 4171|\n",
            "+----------------+-----+\n",
            "\n",
            "+--------------------+-----+\n",
            "|       PaymentMethod|count|\n",
            "+--------------------+-----+\n",
            "|Credit card (auto...| 1522|\n",
            "|        Mailed check| 1612|\n",
            "|Bank transfer (au...| 1544|\n",
            "|    Electronic check| 2365|\n",
            "+--------------------+-----+\n",
            "\n",
            "+-----+-----+\n",
            "|Churn|count|\n",
            "+-----+-----+\n",
            "|   No| 5174|\n",
            "|  Yes| 1869|\n",
            "+-----+-----+\n",
            "\n"
          ]
        }
      ],
      "source": [
        "for co in categotical_columns:\n",
        "  if co  == 'customerID':\n",
        "    continue\n",
        "  data.groupby(co).count().show()"
      ]
    },
    {
      "cell_type": "markdown",
      "metadata": {
        "id": "mgmiBcimTw5z"
      },
      "source": [
        "Let's find number of null values in all of our dataframe columns"
      ]
    },
    {
      "cell_type": "code",
      "execution_count": 15,
      "metadata": {
        "colab": {
          "base_uri": "https://localhost:8080/"
        },
        "id": "-vlBo7LWT1kB",
        "outputId": "1eb9949a-d110-498c-a40f-85b9197dac7f"
      },
      "outputs": [
        {
          "output_type": "stream",
          "name": "stdout",
          "text": [
            "+---------------------+\n",
            "|customerID null count|\n",
            "+---------------------+\n",
            "|                    0|\n",
            "+---------------------+\n",
            "\n",
            "+-----------------+\n",
            "|gender null count|\n",
            "+-----------------+\n",
            "|                0|\n",
            "+-----------------+\n",
            "\n",
            "+------------------------+\n",
            "|SeniorCitizen null count|\n",
            "+------------------------+\n",
            "|                       0|\n",
            "+------------------------+\n",
            "\n",
            "+------------------+\n",
            "|Partner null count|\n",
            "+------------------+\n",
            "|                 0|\n",
            "+------------------+\n",
            "\n",
            "+---------------------+\n",
            "|Dependents null count|\n",
            "+---------------------+\n",
            "|                    0|\n",
            "+---------------------+\n",
            "\n",
            "+-----------------+\n",
            "|tenure null count|\n",
            "+-----------------+\n",
            "|                0|\n",
            "+-----------------+\n",
            "\n",
            "+-----------------------+\n",
            "|PhoneService null count|\n",
            "+-----------------------+\n",
            "|                      0|\n",
            "+-----------------------+\n",
            "\n",
            "+------------------------+\n",
            "|MultipleLines null count|\n",
            "+------------------------+\n",
            "|                       0|\n",
            "+------------------------+\n",
            "\n",
            "+--------------------------+\n",
            "|InternetService null count|\n",
            "+--------------------------+\n",
            "|                         0|\n",
            "+--------------------------+\n",
            "\n",
            "+-------------------------+\n",
            "|OnlineSecurity null count|\n",
            "+-------------------------+\n",
            "|                        0|\n",
            "+-------------------------+\n",
            "\n",
            "+-----------------------+\n",
            "|OnlineBackup null count|\n",
            "+-----------------------+\n",
            "|                      0|\n",
            "+-----------------------+\n",
            "\n",
            "+---------------------------+\n",
            "|DeviceProtection null count|\n",
            "+---------------------------+\n",
            "|                          0|\n",
            "+---------------------------+\n",
            "\n",
            "+----------------------+\n",
            "|TechSupport null count|\n",
            "+----------------------+\n",
            "|                     0|\n",
            "+----------------------+\n",
            "\n",
            "+----------------------+\n",
            "|StreamingTV null count|\n",
            "+----------------------+\n",
            "|                     0|\n",
            "+----------------------+\n",
            "\n",
            "+--------------------------+\n",
            "|StreamingMovies null count|\n",
            "+--------------------------+\n",
            "|                         0|\n",
            "+--------------------------+\n",
            "\n",
            "+-------------------+\n",
            "|Contract null count|\n",
            "+-------------------+\n",
            "|                  0|\n",
            "+-------------------+\n",
            "\n",
            "+---------------------------+\n",
            "|PaperlessBilling null count|\n",
            "+---------------------------+\n",
            "|                          0|\n",
            "+---------------------------+\n",
            "\n",
            "+------------------------+\n",
            "|PaymentMethod null count|\n",
            "+------------------------+\n",
            "|                       0|\n",
            "+------------------------+\n",
            "\n",
            "+-------------------------+\n",
            "|MonthlyCharges null count|\n",
            "+-------------------------+\n",
            "|                        0|\n",
            "+-------------------------+\n",
            "\n",
            "+-----------------------+\n",
            "|TotalCharges null count|\n",
            "+-----------------------+\n",
            "|                     11|\n",
            "+-----------------------+\n",
            "\n",
            "+----------------+\n",
            "|Churn null count|\n",
            "+----------------+\n",
            "|               0|\n",
            "+----------------+\n",
            "\n"
          ]
        }
      ],
      "source": [
        "for co in data.columns:\n",
        "  data.select(count(when(col(co).isNull(), co)).alias(f'{co} null count')).show() # Pass col(co) to the when function"
      ]
    },
    {
      "cell_type": "markdown",
      "metadata": {
        "id": "WcTLE0ZdS-so"
      },
      "source": [
        "### **Task 3 - Data Preprocessing**\n",
        "- Handling the missing values\n",
        "- Removing the outliers"
      ]
    },
    {
      "cell_type": "markdown",
      "metadata": {
        "id": "bDKvkUiwzt_H"
      },
      "source": [
        "**Handling the missing values** <br>\n",
        "Let's create a list of column names with missing values"
      ]
    },
    {
      "cell_type": "code",
      "execution_count": 16,
      "metadata": {
        "id": "ABZfAKxRS3CN"
      },
      "outputs": [],
      "source": [
        "columns_with_missing_values = ['TotalCharges']"
      ]
    },
    {
      "cell_type": "markdown",
      "metadata": {
        "id": "ny4cfwKYzzJN"
      },
      "source": [
        "Creating our Imputer"
      ]
    },
    {
      "cell_type": "code",
      "execution_count": 17,
      "metadata": {
        "id": "lqBhbzyNzyFs"
      },
      "outputs": [],
      "source": [
        "imputer = Imputer(inputCols=columns_with_missing_values,outputCols=columns_with_missing_values).setStrategy(\"mean\")"
      ]
    },
    {
      "cell_type": "markdown",
      "metadata": {
        "id": "2XgghJUpz6wv"
      },
      "source": [
        "Use Imputer to fill the missing values"
      ]
    },
    {
      "cell_type": "code",
      "execution_count": 18,
      "metadata": {
        "id": "LmMfG-Gqz4m4"
      },
      "outputs": [],
      "source": [
        "imputer = imputer.fit(data)\n",
        "data = imputer.transform(data)"
      ]
    },
    {
      "cell_type": "markdown",
      "metadata": {
        "id": "8fKFfw2G0A4j"
      },
      "source": [
        "Let's check the missing value counts again"
      ]
    },
    {
      "cell_type": "code",
      "execution_count": 19,
      "metadata": {
        "colab": {
          "base_uri": "https://localhost:8080/"
        },
        "id": "LscLsydL0Dg_",
        "outputId": "fa6aee95-c0d3-4639-a035-9c858d40a0df"
      },
      "outputs": [
        {
          "output_type": "stream",
          "name": "stdout",
          "text": [
            "+---------------------+\n",
            "|customerID null count|\n",
            "+---------------------+\n",
            "|                    0|\n",
            "+---------------------+\n",
            "\n",
            "+-----------------+\n",
            "|gender null count|\n",
            "+-----------------+\n",
            "|                0|\n",
            "+-----------------+\n",
            "\n",
            "+------------------------+\n",
            "|SeniorCitizen null count|\n",
            "+------------------------+\n",
            "|                       0|\n",
            "+------------------------+\n",
            "\n",
            "+------------------+\n",
            "|Partner null count|\n",
            "+------------------+\n",
            "|                 0|\n",
            "+------------------+\n",
            "\n",
            "+---------------------+\n",
            "|Dependents null count|\n",
            "+---------------------+\n",
            "|                    0|\n",
            "+---------------------+\n",
            "\n",
            "+-----------------+\n",
            "|tenure null count|\n",
            "+-----------------+\n",
            "|                0|\n",
            "+-----------------+\n",
            "\n",
            "+-----------------------+\n",
            "|PhoneService null count|\n",
            "+-----------------------+\n",
            "|                      0|\n",
            "+-----------------------+\n",
            "\n",
            "+------------------------+\n",
            "|MultipleLines null count|\n",
            "+------------------------+\n",
            "|                       0|\n",
            "+------------------------+\n",
            "\n",
            "+--------------------------+\n",
            "|InternetService null count|\n",
            "+--------------------------+\n",
            "|                         0|\n",
            "+--------------------------+\n",
            "\n",
            "+-------------------------+\n",
            "|OnlineSecurity null count|\n",
            "+-------------------------+\n",
            "|                        0|\n",
            "+-------------------------+\n",
            "\n",
            "+-----------------------+\n",
            "|OnlineBackup null count|\n",
            "+-----------------------+\n",
            "|                      0|\n",
            "+-----------------------+\n",
            "\n",
            "+---------------------------+\n",
            "|DeviceProtection null count|\n",
            "+---------------------------+\n",
            "|                          0|\n",
            "+---------------------------+\n",
            "\n",
            "+----------------------+\n",
            "|TechSupport null count|\n",
            "+----------------------+\n",
            "|                     0|\n",
            "+----------------------+\n",
            "\n",
            "+----------------------+\n",
            "|StreamingTV null count|\n",
            "+----------------------+\n",
            "|                     0|\n",
            "+----------------------+\n",
            "\n",
            "+--------------------------+\n",
            "|StreamingMovies null count|\n",
            "+--------------------------+\n",
            "|                         0|\n",
            "+--------------------------+\n",
            "\n",
            "+-------------------+\n",
            "|Contract null count|\n",
            "+-------------------+\n",
            "|                  0|\n",
            "+-------------------+\n",
            "\n",
            "+---------------------------+\n",
            "|PaperlessBilling null count|\n",
            "+---------------------------+\n",
            "|                          0|\n",
            "+---------------------------+\n",
            "\n",
            "+------------------------+\n",
            "|PaymentMethod null count|\n",
            "+------------------------+\n",
            "|                       0|\n",
            "+------------------------+\n",
            "\n",
            "+-------------------------+\n",
            "|MonthlyCharges null count|\n",
            "+-------------------------+\n",
            "|                        0|\n",
            "+-------------------------+\n",
            "\n",
            "+-----------------------+\n",
            "|TotalCharges null count|\n",
            "+-----------------------+\n",
            "|                      0|\n",
            "+-----------------------+\n",
            "\n",
            "+----------------+\n",
            "|Churn null count|\n",
            "+----------------+\n",
            "|               0|\n",
            "+----------------+\n",
            "\n"
          ]
        }
      ],
      "source": [
        "for co in data.columns:\n",
        "  data.select(count(when(col(co).isNull(), co)).alias(f'{co} null count')).show()"
      ]
    },
    {
      "cell_type": "markdown",
      "metadata": {
        "id": "g9JJoI4_1Ao5"
      },
      "source": [
        "**Removing the outliers** <br>\n",
        "Let's find the customer with the tenure higher than 100"
      ]
    },
    {
      "cell_type": "code",
      "execution_count": 20,
      "metadata": {
        "colab": {
          "base_uri": "https://localhost:8080/"
        },
        "id": "GuUgYzfM1ICN",
        "outputId": "a7d6eac2-b2e8-4f14-9964-42cd10fbd93a"
      },
      "outputs": [
        {
          "output_type": "stream",
          "name": "stdout",
          "text": [
            "+----------+------+-------------+-------+----------+------+------------+-------------+---------------+--------------+------------+----------------+-----------+-----------+---------------+--------------+----------------+----------------+--------------+------------+-----+\n",
            "|customerID|gender|SeniorCitizen|Partner|Dependents|tenure|PhoneService|MultipleLines|InternetService|OnlineSecurity|OnlineBackup|DeviceProtection|TechSupport|StreamingTV|StreamingMovies|      Contract|PaperlessBilling|   PaymentMethod|MonthlyCharges|TotalCharges|Churn|\n",
            "+----------+------+-------------+-------+----------+------+------------+-------------+---------------+--------------+------------+----------------+-----------+-----------+---------------+--------------+----------------+----------------+--------------+------------+-----+\n",
            "|5122-CYFXA|Female|           No|     No|        No|   458|         Yes|           No|            DSL|            No|         Yes|              No|        Yes|        Yes|            Yes|Month-to-month|             Yes|Electronic check|          75.3|       244.1|   No|\n",
            "+----------+------+-------------+-------+----------+------+------------+-------------+---------------+--------------+------------+----------------+-----------+-----------+---------------+--------------+----------------+----------------+--------------+------------+-----+\n",
            "\n"
          ]
        }
      ],
      "source": [
        "data.select(\"*\").where(data.tenure > 100).show()"
      ]
    },
    {
      "cell_type": "markdown",
      "metadata": {
        "id": "YcaebVkh2CoU"
      },
      "source": [
        "Let's drop the outlier row"
      ]
    },
    {
      "cell_type": "code",
      "execution_count": 21,
      "metadata": {
        "colab": {
          "base_uri": "https://localhost:8080/"
        },
        "id": "ANT7iLlB2Et5",
        "outputId": "d9bea043-afb2-49ec-8ffb-a9a74e6bae08"
      },
      "outputs": [
        {
          "output_type": "stream",
          "name": "stdout",
          "text": [
            "Number of rows: 7043\n",
            "Number of rows: 7042\n"
          ]
        }
      ],
      "source": [
        "print(\"Number of rows:\",data.count())\n",
        "data = data.filter(data.tenure < 100)\n",
        "print(\"Number of rows:\",data.count())"
      ]
    },
    {
      "cell_type": "markdown",
      "metadata": {
        "id": "CQMD4VIuPDen"
      },
      "source": [
        "### **Task 4 - Feature Preparation**\n",
        "- Numerical Features\n",
        "    - Vector Assembling\n",
        "    - Numerical Scaling\n",
        "- Categorical Features\n",
        "    - String Indexing\n",
        "    - Vector Assembling\n",
        "\n",
        "- Combining the numerical and categorical feature vectors\n",
        "\n",
        "\n",
        "\n",
        "\n",
        "**Feature Preparation - Numerical Features** <br>\n",
        "\n",
        "`Vector Assembling --> Standard Scaling` <br>\n",
        "\n",
        "**Vector Assembling** <br>\n",
        "To apply our machine learning model we need to combine all of our numerical and categorical features into vectors. For now let's create a feature vector for our numerical columns.\n"
      ]
    },
    {
      "cell_type": "code",
      "execution_count": 22,
      "metadata": {
        "colab": {
          "base_uri": "https://localhost:8080/"
        },
        "id": "7_g7Hu3HPC9Q",
        "outputId": "9bf45407-636d-423c-ef0a-a6e756f22952"
      },
      "outputs": [
        {
          "output_type": "stream",
          "name": "stdout",
          "text": [
            "+----------+------+-------------+-------+----------+------+------------+----------------+---------------+--------------+------------+----------------+-----------+-----------+---------------+--------------+----------------+--------------------+--------------+------------+-----+-------------------------+\n",
            "|customerID|gender|SeniorCitizen|Partner|Dependents|tenure|PhoneService|   MultipleLines|InternetService|OnlineSecurity|OnlineBackup|DeviceProtection|TechSupport|StreamingTV|StreamingMovies|      Contract|PaperlessBilling|       PaymentMethod|MonthlyCharges|TotalCharges|Churn|numerical_features_vector|\n",
            "+----------+------+-------------+-------+----------+------+------------+----------------+---------------+--------------+------------+----------------+-----------+-----------+---------------+--------------+----------------+--------------------+--------------+------------+-----+-------------------------+\n",
            "|7590-VHVEG|Female|           No|    Yes|        No|     1|          No|No phone service|            DSL|            No|         Yes|              No|         No|         No|             No|Month-to-month|             Yes|    Electronic check|         29.85|       29.85|   No|        [1.0,29.85,29.85]|\n",
            "|5575-GNVDE|  Male|           No|     No|        No|    34|         Yes|              No|            DSL|           Yes|          No|             Yes|         No|         No|             No|      One year|              No|        Mailed check|         56.95|      1889.5|   No|      [34.0,56.95,1889.5]|\n",
            "|3668-QPYBK|  Male|           No|     No|        No|     2|         Yes|              No|            DSL|           Yes|         Yes|              No|         No|         No|             No|Month-to-month|             Yes|        Mailed check|         53.85|      108.15|  Yes|       [2.0,53.85,108.15]|\n",
            "|7795-CFOCW|  Male|           No|     No|        No|    45|          No|No phone service|            DSL|           Yes|          No|             Yes|        Yes|         No|             No|      One year|              No|Bank transfer (au...|          42.3|     1840.75|   No|      [45.0,42.3,1840.75]|\n",
            "|9237-HQITU|Female|           No|     No|        No|     2|         Yes|              No|    Fiber optic|            No|          No|              No|         No|         No|             No|Month-to-month|             Yes|    Electronic check|          70.7|      151.65|  Yes|        [2.0,70.7,151.65]|\n",
            "+----------+------+-------------+-------+----------+------+------------+----------------+---------------+--------------+------------+----------------+-----------+-----------+---------------+--------------+----------------+--------------------+--------------+------------+-----+-------------------------+\n",
            "only showing top 5 rows\n",
            "\n"
          ]
        }
      ],
      "source": [
        "numerical_columns = [name for name,typ in data.dtypes if typ == \"double\" or typ ==\"int\"] # already defined above\n",
        "\n",
        "\n",
        "numerical_vector_assembler = VectorAssembler(inputCols = numerical_columns, outputCol='numerical_features_vector')\n",
        "data = numerical_vector_assembler.transform(data)\n",
        "data.show(5)"
      ]
    },
    {
      "cell_type": "markdown",
      "metadata": {
        "id": "U39MK-kfYnpc"
      },
      "source": [
        "**Numerical Scaling** <br>\n",
        "Let's standardize all of our numerical features."
      ]
    },
    {
      "cell_type": "code",
      "execution_count": 23,
      "metadata": {
        "colab": {
          "base_uri": "https://localhost:8080/"
        },
        "id": "RqvD874WSQEs",
        "outputId": "6b503dbc-37b8-4a81-e56a-292e45a88e39"
      },
      "outputs": [
        {
          "output_type": "stream",
          "name": "stdout",
          "text": [
            "+----------+------+-------------+-------+----------+------+------------+----------------+---------------+--------------+------------+----------------+-----------+-----------+---------------+--------------+----------------+--------------------+--------------+------------+-----+-------------------------+-------------------------+\n",
            "|customerID|gender|SeniorCitizen|Partner|Dependents|tenure|PhoneService|   MultipleLines|InternetService|OnlineSecurity|OnlineBackup|DeviceProtection|TechSupport|StreamingTV|StreamingMovies|      Contract|PaperlessBilling|       PaymentMethod|MonthlyCharges|TotalCharges|Churn|numerical_features_vector|numerical_features_scaled|\n",
            "+----------+------+-------------+-------+----------+------+------------+----------------+---------------+--------------+------------+----------------+-----------+-----------+---------------+--------------+----------------+--------------------+--------------+------------+-----+-------------------------+-------------------------+\n",
            "|7590-VHVEG|Female|           No|    Yes|        No|     1|          No|No phone service|            DSL|            No|         Yes|              No|         No|         No|             No|Month-to-month|             Yes|    Electronic check|         29.85|       29.85|   No|        [1.0,29.85,29.85]|     [-1.2775627682208...|\n",
            "|5575-GNVDE|  Male|           No|     No|        No|    34|         Yes|              No|            DSL|           Yes|          No|             Yes|         No|         No|             No|      One year|              No|        Mailed check|         56.95|      1889.5|   No|      [34.0,56.95,1889.5]|     [0.06615490566075...|\n",
            "|3668-QPYBK|  Male|           No|     No|        No|     2|         Yes|              No|            DSL|           Yes|         Yes|              No|         No|         No|             No|Month-to-month|             Yes|        Mailed check|         53.85|      108.15|  Yes|       [2.0,53.85,108.15]|     [-1.2368440508304...|\n",
            "|7795-CFOCW|  Male|           No|     No|        No|    45|          No|No phone service|            DSL|           Yes|          No|             Yes|        Yes|         No|             No|      One year|              No|Bank transfer (au...|          42.3|     1840.75|   No|      [45.0,42.3,1840.75]|     [0.51406079695460...|\n",
            "|9237-HQITU|Female|           No|     No|        No|     2|         Yes|              No|    Fiber optic|            No|          No|              No|         No|         No|             No|Month-to-month|             Yes|    Electronic check|          70.7|      151.65|  Yes|        [2.0,70.7,151.65]|     [-1.2368440508304...|\n",
            "+----------+------+-------------+-------+----------+------+------------+----------------+---------------+--------------+------------+----------------+-----------+-----------+---------------+--------------+----------------+--------------------+--------------+------------+-----+-------------------------+-------------------------+\n",
            "only showing top 5 rows\n",
            "\n"
          ]
        }
      ],
      "source": [
        "scaler = StandardScaler(inputCol = 'numerical_features_vector', outputCol= 'numerical_features_scaled', withMean=True, withStd=True)\n",
        "data = scaler.fit(data).transform(data)\n",
        "data.show(5)"
      ]
    },
    {
      "cell_type": "markdown",
      "metadata": {
        "id": "KfbVsiv6Z1SM"
      },
      "source": [
        "**Feature Preperation - Categorical Features** <br>\n",
        "\n",
        "`String Indexing --> Vector Assembling` <br>\n",
        "\n",
        "**String Indexing** <br>\n",
        "We need to convert all the string columns to numeric columns."
      ]
    },
    {
      "cell_type": "code",
      "execution_count": 24,
      "metadata": {
        "colab": {
          "base_uri": "https://localhost:8080/"
        },
        "id": "U7xmubmpZ1zo",
        "outputId": "d07ef26f-7bb6-4a66-da6f-c02994ce137e"
      },
      "outputs": [
        {
          "output_type": "stream",
          "name": "stdout",
          "text": [
            "+----------+------+-------------+-------+----------+------+------------+----------------+---------------+--------------+------------+----------------+-----------+-----------+---------------+--------------+----------------+--------------------+--------------+------------+-----+-------------------------+-------------------------+------------------+--------------+---------------------+---------------+------------------+--------------------+---------------------+-----------------------+----------------------+--------------------+------------------------+-------------------+-------------------+-----------------------+----------------+------------------------+---------------------+-------------+\n",
            "|customerID|gender|SeniorCitizen|Partner|Dependents|tenure|PhoneService|   MultipleLines|InternetService|OnlineSecurity|OnlineBackup|DeviceProtection|TechSupport|StreamingTV|StreamingMovies|      Contract|PaperlessBilling|       PaymentMethod|MonthlyCharges|TotalCharges|Churn|numerical_features_vector|numerical_features_scaled|customerID_indexed|gender_indexed|SeniorCitizen_indexed|Partner_indexed|Dependents_indexed|PhoneService_indexed|MultipleLines_indexed|InternetService_indexed|OnlineSecurity_indexed|OnlineBackup_indexed|DeviceProtection_indexed|TechSupport_indexed|StreamingTV_indexed|StreamingMovies_indexed|Contract_indexed|PaperlessBilling_indexed|PaymentMethod_indexed|Churn_indexed|\n",
            "+----------+------+-------------+-------+----------+------+------------+----------------+---------------+--------------+------------+----------------+-----------+-----------+---------------+--------------+----------------+--------------------+--------------+------------+-----+-------------------------+-------------------------+------------------+--------------+---------------------+---------------+------------------+--------------------+---------------------+-----------------------+----------------------+--------------------+------------------------+-------------------+-------------------+-----------------------+----------------+------------------------+---------------------+-------------+\n",
            "|7590-VHVEG|Female|           No|    Yes|        No|     1|          No|No phone service|            DSL|            No|         Yes|              No|         No|         No|             No|Month-to-month|             Yes|    Electronic check|         29.85|       29.85|   No|        [1.0,29.85,29.85]|     [-1.2775627682208...|            5374.0|           1.0|                  0.0|            1.0|               0.0|                 1.0|                  2.0|                    1.0|                   0.0|                 1.0|                     0.0|                0.0|                0.0|                    0.0|             0.0|                     0.0|                  0.0|          0.0|\n",
            "|5575-GNVDE|  Male|           No|     No|        No|    34|         Yes|              No|            DSL|           Yes|          No|             Yes|         No|         No|             No|      One year|              No|        Mailed check|         56.95|      1889.5|   No|      [34.0,56.95,1889.5]|     [0.06615490566075...|            3961.0|           0.0|                  0.0|            0.0|               0.0|                 0.0|                  0.0|                    1.0|                   1.0|                 0.0|                     1.0|                0.0|                0.0|                    0.0|             2.0|                     1.0|                  1.0|          0.0|\n",
            "|3668-QPYBK|  Male|           No|     No|        No|     2|         Yes|              No|            DSL|           Yes|         Yes|              No|         No|         No|             No|Month-to-month|             Yes|        Mailed check|         53.85|      108.15|  Yes|       [2.0,53.85,108.15]|     [-1.2368440508304...|            2564.0|           0.0|                  0.0|            0.0|               0.0|                 0.0|                  0.0|                    1.0|                   1.0|                 1.0|                     0.0|                0.0|                0.0|                    0.0|             0.0|                     0.0|                  1.0|          1.0|\n",
            "|7795-CFOCW|  Male|           No|     No|        No|    45|          No|No phone service|            DSL|           Yes|          No|             Yes|        Yes|         No|             No|      One year|              No|Bank transfer (au...|          42.3|     1840.75|   No|      [45.0,42.3,1840.75]|     [0.51406079695460...|            5534.0|           0.0|                  0.0|            0.0|               0.0|                 1.0|                  2.0|                    1.0|                   1.0|                 0.0|                     1.0|                1.0|                0.0|                    0.0|             2.0|                     1.0|                  2.0|          0.0|\n",
            "|9237-HQITU|Female|           No|     No|        No|     2|         Yes|              No|    Fiber optic|            No|          No|              No|         No|         No|             No|Month-to-month|             Yes|    Electronic check|          70.7|      151.65|  Yes|        [2.0,70.7,151.65]|     [-1.2368440508304...|            6510.0|           1.0|                  0.0|            0.0|               0.0|                 0.0|                  0.0|                    0.0|                   0.0|                 0.0|                     0.0|                0.0|                0.0|                    0.0|             0.0|                     0.0|                  0.0|          1.0|\n",
            "+----------+------+-------------+-------+----------+------+------------+----------------+---------------+--------------+------------+----------------+-----------+-----------+---------------+--------------+----------------+--------------------+--------------+------------+-----+-------------------------+-------------------------+------------------+--------------+---------------------+---------------+------------------+--------------------+---------------------+-----------------------+----------------------+--------------------+------------------------+-------------------+-------------------+-----------------------+----------------+------------------------+---------------------+-------------+\n",
            "only showing top 5 rows\n",
            "\n"
          ]
        }
      ],
      "source": [
        "categotical_columns = [name for name,typ in data.dtypes if typ == \"string\"] # already defined above\n",
        "categotical_columns_indexed = [co + '_indexed' for co in categotical_columns]\n",
        "indexer = StringIndexer(inputCols=categotical_columns, outputCols=categotical_columns_indexed)\n",
        "data  = indexer.fit(data).transform(data)\n",
        "data.show(5)"
      ]
    },
    {
      "cell_type": "markdown",
      "metadata": {
        "id": "566hiGhl_1m0"
      },
      "source": [
        "Let's combine all of our categorifal features in to one feature vector."
      ]
    },
    {
      "cell_type": "code",
      "execution_count": 25,
      "metadata": {
        "colab": {
          "base_uri": "https://localhost:8080/"
        },
        "id": "Uh0qcHDb6q8t",
        "outputId": "487f8dcd-590e-4127-a3aa-0de1a7a8e25b"
      },
      "outputs": [
        {
          "output_type": "stream",
          "name": "stdout",
          "text": [
            "+----------+------+-------------+-------+----------+------+------------+----------------+---------------+--------------+------------+----------------+-----------+-----------+---------------+--------------+----------------+--------------------+--------------+------------+-----+-------------------------+-------------------------+------------------+--------------+---------------------+---------------+------------------+--------------------+---------------------+-----------------------+----------------------+--------------------+------------------------+-------------------+-------------------+-----------------------+----------------+------------------------+---------------------+-------------+---------------------------+\n",
            "|customerID|gender|SeniorCitizen|Partner|Dependents|tenure|PhoneService|   MultipleLines|InternetService|OnlineSecurity|OnlineBackup|DeviceProtection|TechSupport|StreamingTV|StreamingMovies|      Contract|PaperlessBilling|       PaymentMethod|MonthlyCharges|TotalCharges|Churn|numerical_features_vector|numerical_features_scaled|customerID_indexed|gender_indexed|SeniorCitizen_indexed|Partner_indexed|Dependents_indexed|PhoneService_indexed|MultipleLines_indexed|InternetService_indexed|OnlineSecurity_indexed|OnlineBackup_indexed|DeviceProtection_indexed|TechSupport_indexed|StreamingTV_indexed|StreamingMovies_indexed|Contract_indexed|PaperlessBilling_indexed|PaymentMethod_indexed|Churn_indexed|categotical_features_vector|\n",
            "+----------+------+-------------+-------+----------+------+------------+----------------+---------------+--------------+------------+----------------+-----------+-----------+---------------+--------------+----------------+--------------------+--------------+------------+-----+-------------------------+-------------------------+------------------+--------------+---------------------+---------------+------------------+--------------------+---------------------+-----------------------+----------------------+--------------------+------------------------+-------------------+-------------------+-----------------------+----------------+------------------------+---------------------+-------------+---------------------------+\n",
            "|7590-VHVEG|Female|           No|    Yes|        No|     1|          No|No phone service|            DSL|            No|         Yes|              No|         No|         No|             No|Month-to-month|             Yes|    Electronic check|         29.85|       29.85|   No|        [1.0,29.85,29.85]|     [-1.2775627682208...|            5374.0|           1.0|                  0.0|            1.0|               0.0|                 1.0|                  2.0|                    1.0|                   0.0|                 1.0|                     0.0|                0.0|                0.0|                    0.0|             0.0|                     0.0|                  0.0|          0.0|       (16,[0,2,4,5,6,8]...|\n",
            "|5575-GNVDE|  Male|           No|     No|        No|    34|         Yes|              No|            DSL|           Yes|          No|             Yes|         No|         No|             No|      One year|              No|        Mailed check|         56.95|      1889.5|   No|      [34.0,56.95,1889.5]|     [0.06615490566075...|            3961.0|           0.0|                  0.0|            0.0|               0.0|                 0.0|                  0.0|                    1.0|                   1.0|                 0.0|                     1.0|                0.0|                0.0|                    0.0|             2.0|                     1.0|                  1.0|          0.0|       (16,[6,7,9,13,14,...|\n",
            "|3668-QPYBK|  Male|           No|     No|        No|     2|         Yes|              No|            DSL|           Yes|         Yes|              No|         No|         No|             No|Month-to-month|             Yes|        Mailed check|         53.85|      108.15|  Yes|       [2.0,53.85,108.15]|     [-1.2368440508304...|            2564.0|           0.0|                  0.0|            0.0|               0.0|                 0.0|                  0.0|                    1.0|                   1.0|                 1.0|                     0.0|                0.0|                0.0|                    0.0|             0.0|                     0.0|                  1.0|          1.0|       (16,[6,7,8,15],[1...|\n",
            "|7795-CFOCW|  Male|           No|     No|        No|    45|          No|No phone service|            DSL|           Yes|          No|             Yes|        Yes|         No|             No|      One year|              No|Bank transfer (au...|          42.3|     1840.75|   No|      [45.0,42.3,1840.75]|     [0.51406079695460...|            5534.0|           0.0|                  0.0|            0.0|               0.0|                 1.0|                  2.0|                    1.0|                   1.0|                 0.0|                     1.0|                1.0|                0.0|                    0.0|             2.0|                     1.0|                  2.0|          0.0|       (16,[4,5,6,7,9,10...|\n",
            "|9237-HQITU|Female|           No|     No|        No|     2|         Yes|              No|    Fiber optic|            No|          No|              No|         No|         No|             No|Month-to-month|             Yes|    Electronic check|          70.7|      151.65|  Yes|        [2.0,70.7,151.65]|     [-1.2368440508304...|            6510.0|           1.0|                  0.0|            0.0|               0.0|                 0.0|                  0.0|                    0.0|                   0.0|                 0.0|                     0.0|                0.0|                0.0|                    0.0|             0.0|                     0.0|                  0.0|          1.0|             (16,[0],[1.0])|\n",
            "+----------+------+-------------+-------+----------+------+------------+----------------+---------------+--------------+------------+----------------+-----------+-----------+---------------+--------------+----------------+--------------------+--------------+------------+-----+-------------------------+-------------------------+------------------+--------------+---------------------+---------------+------------------+--------------------+---------------------+-----------------------+----------------------+--------------------+------------------------+-------------------+-------------------+-----------------------+----------------+------------------------+---------------------+-------------+---------------------------+\n",
            "only showing top 5 rows\n",
            "\n"
          ]
        }
      ],
      "source": [
        "categotical_columns_indexed.remove('customerID_indexed')\n",
        "categotical_columns_indexed.remove('Churn_indexed')\n",
        "\n",
        "categotical_vector_assembler = VectorAssembler(inputCols = categotical_columns_indexed, outputCol='categotical_features_vector')\n",
        "data = categotical_vector_assembler.transform(data)\n",
        "data.show(5)"
      ]
    },
    {
      "cell_type": "markdown",
      "metadata": {
        "id": "4G0bVH-vALJt"
      },
      "source": [
        "Now let's combine categorical and numerical feature vectors."
      ]
    },
    {
      "cell_type": "code",
      "execution_count": 26,
      "metadata": {
        "colab": {
          "base_uri": "https://localhost:8080/"
        },
        "id": "UrsFk-CZZgrV",
        "outputId": "407efc11-c251-427b-feaf-4e1474708a5c"
      },
      "outputs": [
        {
          "output_type": "stream",
          "name": "stdout",
          "text": [
            "+--------------------+-------------+\n",
            "|final_feature_vector|Churn_indexed|\n",
            "+--------------------+-------------+\n",
            "|(19,[0,1,2,3,5,7,...|          0.0|\n",
            "|(19,[0,1,2,9,10,1...|          0.0|\n",
            "|(19,[0,1,2,9,10,1...|          1.0|\n",
            "|[0.51406079695460...|          0.0|\n",
            "|(19,[0,1,2,3],[-1...|          1.0|\n",
            "+--------------------+-------------+\n",
            "only showing top 5 rows\n",
            "\n"
          ]
        }
      ],
      "source": [
        "final_vector_assembler = VectorAssembler(inputCols = ['numerical_features_scaled','categotical_features_vector'], outputCol='final_feature_vector')\n",
        "data = final_vector_assembler.transform(data)\n",
        "data.select(['final_feature_vector','Churn_indexed']).show(5)"
      ]
    },
    {
      "cell_type": "markdown",
      "metadata": {
        "id": "_og11F0MdrYE"
      },
      "source": [
        "### **Task 5 - Model Training**\n",
        "- Train and Test data splitting\n",
        "- Creating our model\n",
        "- Training our model\n",
        "- Make initial predictions using our model\n",
        "\n",
        "In this task, we are going to start training our model"
      ]
    },
    {
      "cell_type": "code",
      "execution_count": 27,
      "metadata": {
        "colab": {
          "base_uri": "https://localhost:8080/"
        },
        "id": "8VFwkblddkdV",
        "outputId": "83809647-d4c1-417a-d55e-041fb4f73b3f"
      },
      "outputs": [
        {
          "output_type": "execute_result",
          "data": {
            "text/plain": [
              "(4930, 2112)"
            ]
          },
          "metadata": {},
          "execution_count": 27
        }
      ],
      "source": [
        "train, test = data.randomSplit([0.7,0.3], seed = 100)\n",
        "train.count(),test.count()"
      ]
    },
    {
      "cell_type": "markdown",
      "metadata": {
        "id": "aiAJrl8oEKIk"
      },
      "source": [
        "Now let's create and train our desicion tree"
      ]
    },
    {
      "cell_type": "code",
      "execution_count": 28,
      "metadata": {
        "id": "bObhrM_4nKCf"
      },
      "outputs": [],
      "source": [
        "clf_dt = DecisionTreeClassifier(featuresCol='final_feature_vector', labelCol=\"Churn_indexed\") #maxDepth = 3\n",
        "model = clf_dt.fit(train)"
      ]
    },
    {
      "cell_type": "markdown",
      "metadata": {
        "id": "cy_-7W2LEO9j"
      },
      "source": [
        "Let's make predictions on our test data"
      ]
    },
    {
      "cell_type": "code",
      "execution_count": 29,
      "metadata": {
        "colab": {
          "base_uri": "https://localhost:8080/"
        },
        "id": "AqU9-y6dEOqq",
        "outputId": "218ed657-b687-4dea-b4d7-6464f044ee3e"
      },
      "outputs": [
        {
          "output_type": "stream",
          "name": "stdout",
          "text": [
            "+-------------+----------+\n",
            "|Churn_indexed|prediction|\n",
            "+-------------+----------+\n",
            "|          1.0|       1.0|\n",
            "|          0.0|       0.0|\n",
            "|          0.0|       0.0|\n",
            "|          0.0|       0.0|\n",
            "|          0.0|       0.0|\n",
            "|          1.0|       1.0|\n",
            "|          0.0|       0.0|\n",
            "|          1.0|       0.0|\n",
            "|          0.0|       0.0|\n",
            "|          0.0|       0.0|\n",
            "|          0.0|       0.0|\n",
            "|          0.0|       0.0|\n",
            "|          0.0|       0.0|\n",
            "|          1.0|       0.0|\n",
            "|          0.0|       0.0|\n",
            "|          0.0|       1.0|\n",
            "|          0.0|       1.0|\n",
            "|          0.0|       0.0|\n",
            "|          0.0|       0.0|\n",
            "|          0.0|       0.0|\n",
            "+-------------+----------+\n",
            "only showing top 20 rows\n",
            "\n"
          ]
        }
      ],
      "source": [
        "prediction_test = model.transform(test)\n",
        "prediction_test.select(\"Churn_indexed\", 'prediction').show()"
      ]
    },
    {
      "cell_type": "markdown",
      "metadata": {
        "id": "sZXX1rqz8hoT"
      },
      "source": [
        "### **Task 6 - Model Evaluation**\n",
        "- Calculating area under the ROC curve for the `test` set\n",
        "- Calculating area under the ROC curve for the `training` set\n",
        "- Hyper parameter tuning"
      ]
    },
    {
      "cell_type": "code",
      "execution_count": 31,
      "metadata": {
        "colab": {
          "base_uri": "https://localhost:8080/"
        },
        "id": "V8Ldw-rno18o",
        "outputId": "2965243c-46f2-4a2e-9b70-e834b525c04d"
      },
      "outputs": [
        {
          "output_type": "execute_result",
          "data": {
            "text/plain": [
              "0.5664944085244075"
            ]
          },
          "metadata": {},
          "execution_count": 31
        }
      ],
      "source": [
        "evaluator = BinaryClassificationEvaluator(labelCol= 'Churn_indexed')\n",
        "auc_test = evaluator.evaluate(prediction_test,{evaluator.metricName: \"areaUnderROC\"})\n",
        "auc_test"
      ]
    },
    {
      "cell_type": "markdown",
      "metadata": {
        "id": "nXpG_p4BGEhq"
      },
      "source": [
        "Let's get the AUC for our `training` set"
      ]
    },
    {
      "cell_type": "code",
      "execution_count": 32,
      "metadata": {
        "colab": {
          "base_uri": "https://localhost:8080/"
        },
        "id": "LVkrmoC8GErZ",
        "outputId": "061971bd-fb28-4dbd-801a-7bb2e762e2ad"
      },
      "outputs": [
        {
          "output_type": "execute_result",
          "data": {
            "text/plain": [
              "0.5647403286677019"
            ]
          },
          "metadata": {},
          "execution_count": 32
        }
      ],
      "source": [
        "prediction_train = model.transform(train)\n",
        "auc_train = evaluator.evaluate(prediction_train,{evaluator.metricName: \"areaUnderROC\"})\n",
        "auc_train\n"
      ]
    },
    {
      "cell_type": "markdown",
      "metadata": {
        "id": "HH4ZH3yFHbvS"
      },
      "source": [
        "**Hyper parameter tuning**\n",
        "\n",
        "Let's find the best `maxDepth` parameter for our DT model."
      ]
    },
    {
      "cell_type": "code",
      "execution_count": 34,
      "metadata": {
        "id": "CwkzV8xLHNlE"
      },
      "outputs": [],
      "source": [
        "def evaluate_dt(mode_params):\n",
        "      test_accuracies = []\n",
        "      train_accuracies = []\n",
        "\n",
        "      for maxD in mode_params:\n",
        "        # train the model based on the maxD\n",
        "        decision_tree = DecisionTreeClassifier(featuresCol = 'final_feature_vector', labelCol = 'Churn_indexed', maxDepth = maxD)\n",
        "        dtModel = decision_tree.fit(train)\n",
        "\n",
        "        # calculating test error\n",
        "        predictions_test = dtModel.transform(test)\n",
        "        evaluator = BinaryClassificationEvaluator(labelCol=\"Churn_indexed\")\n",
        "        auc_test = evaluator.evaluate(predictions_test, {evaluator.metricName: \"areaUnderROC\"})\n",
        "        # recording the accuracy\n",
        "        test_accuracies.append(auc_test)\n",
        "\n",
        "        # calculating training error\n",
        "        predictions_training = dtModel.transform(train)\n",
        "        evaluator = BinaryClassificationEvaluator(labelCol=\"Churn_indexed\")\n",
        "        auc_training = evaluator.evaluate(predictions_training, {evaluator.metricName: \"areaUnderROC\"})\n",
        "        train_accuracies.append(auc_training)\n",
        "\n",
        "      return(test_accuracies, train_accuracies)"
      ]
    },
    {
      "cell_type": "markdown",
      "metadata": {
        "id": "37QrYjWvcE4Z"
      },
      "source": [
        "Let's define `params` list to evaluate our model iteratively with differe maxDepth parameter.  "
      ]
    },
    {
      "cell_type": "code",
      "execution_count": 35,
      "metadata": {
        "id": "6rVz17-jIoVC"
      },
      "outputs": [],
      "source": [
        "maxDepths = list(range(1,21))\n",
        "test_acc,train_acc = evaluate_dt(maxDepths)"
      ]
    },
    {
      "cell_type": "markdown",
      "metadata": {
        "id": "3uBlqQ2-cWCm"
      },
      "source": [
        "Let's visualize our results"
      ]
    },
    {
      "cell_type": "code",
      "source": [
        "# prompt: Let's visualize our results\n",
        "fig = plt.figure(figsize=(10,6))\n",
        "ax = fig.gca()\n",
        "\n",
        "ax.plot(maxDepths, test_acc, label='Testing Accuracy')\n",
        "ax.plot(maxDepths, train_acc, label='Training Accuracy')\n",
        "\n",
        "ax.set_xlabel('maxDepth')\n",
        "ax.set_ylabel('Area under the ROC')\n",
        "ax.set_title('Decision Tree Accuracy vs MaxDepth')\n",
        "\n",
        "plt.legend()\n",
        "plt.show()\n"
      ],
      "metadata": {
        "colab": {
          "base_uri": "https://localhost:8080/",
          "height": 564
        },
        "id": "28AUnmB7AsHS",
        "outputId": "604be43a-6d5c-4f89-a58d-4a7a6e086958"
      },
      "execution_count": 36,
      "outputs": [
        {
          "output_type": "display_data",
          "data": {
            "text/plain": [
              "<Figure size 1000x600 with 1 Axes>"
            ],
            "image/png": "[encoded data removed]"
          },
          "metadata": {}
        }
      ]
    },
    {
      "cell_type": "code",
      "source": [
        "clf_dt = DecisionTreeClassifier(featuresCol='final_feature_vector', labelCol=\"Churn_indexed\", maxDepth = 6)\n",
        "model = clf_dt.fit(train)\n",
        "\n",
        "prediction_test = model.transform(test)\n",
        "\n",
        "evaluator = BinaryClassificationEvaluator(labelCol= 'Churn_indexed')\n",
        "auc_test = evaluator.evaluate(prediction_test,{evaluator.metricName: \"areaUnderROC\"})\n",
        "print(\"Test roc: \",auc_test)\n",
        "\n",
        "prediction_train = model.transform(train)\n",
        "auc_train = evaluator.evaluate(prediction_train,{evaluator.metricName: \"areaUnderROC\"})\n",
        "auc_train\n",
        "print(\"Train roc: \",auc_test)"
      ],
      "metadata": {
        "colab": {
          "base_uri": "https://localhost:8080/"
        },
        "id": "EinadtuJBJBA",
        "outputId": "c224416e-9d58-49f9-8d46-3b33102c056f"
      },
      "execution_count": 38,
      "outputs": [
        {
          "output_type": "stream",
          "name": "stdout",
          "text": [
            "Test roc:  0.7968193482241807\n",
            "Train roc:  0.7968193482241807\n"
          ]
        }
      ]
    },
    {
      "cell_type": "markdown",
      "metadata": {
        "id": "koCUPBFUKDIZ"
      },
      "source": [
        "### **7 - Model Deployment**\n",
        "- Giving Recommendations using our model"
      ]
    },
    {
      "cell_type": "markdown",
      "metadata": {
        "id": "xomU5qnMUdWJ"
      },
      "source": [
        "\n",
        "\n",
        "We were asked to recommend a solution to reduce the customer churn.\n"
      ]
    },
    {
      "cell_type": "code",
      "execution_count": 48,
      "metadata": {
        "colab": {
          "base_uri": "https://localhost:8080/",
          "height": 542
        },
        "id": "1FIFIqdLsAvq",
        "outputId": "89ff7d75-ffb6-4188-ff20-3df62017e7dd"
      },
      "outputs": [
        {
          "output_type": "display_data",
          "data": {
            "text/html": [
              "<html>\n",
              "<head><meta charset=\"utf-8\" /></head>\n",
              "<body>\n",
              "    <div>            <script src=\"https://cdnjs.cloudflare.com/ajax/libs/mathjax/2.7.5/MathJax.js?config=TeX-AMS-MML_SVG\"></script><script type=\"text/javascript\">if (window.MathJax && window.MathJax.Hub && window.MathJax.Hub.Config) {window.MathJax.Hub.Config({SVG: {font: \"STIX-Web\"}});}</script>                <script type=\"text/javascript\">window.PlotlyConfig = {MathJaxConfig: 'local'};</script>\n",
              "        <script charset=\"utf-8\" src=\"https://cdn.plot.ly/plotly-2.24.1.min.js\"></script>                <div id=\"bedc1f4b-ec8d-4480-a5ae-f76b1c8813e3\" class=\"plotly-graph-div\" style=\"height:525px; width:100%;\"></div>            <script type=\"text/javascript\">                                    window.PLOTLYENV=window.PLOTLYENV || {};                                    if (document.getElementById(\"bedc1f4b-ec8d-4480-a5ae-f76b1c8813e3\")) {                    Plotly.newPlot(                        \"bedc1f4b-ec8d-4480-a5ae-f76b1c8813e3\",                        [{\"alignmentgroup\":\"True\",\"hovertemplate\":\"variable=score\\u003cbr\\u003eindex=%{x}\\u003cbr\\u003evalue=%{y}\\u003cextra\\u003e\\u003c\\u002fextra\\u003e\",\"legendgroup\":\"score\",\"marker\":{\"color\":\"#636efa\",\"pattern\":{\"shape\":\"\"}},\"name\":\"score\",\"offsetgroup\":\"score\",\"orientation\":\"v\",\"showlegend\":true,\"textposition\":\"auto\",\"x\":[\"tenure\",\"MonthlyCharges\",\"TotalCharges\",\"gender_indexed\",\"SeniorCitizen_indexed\",\"Partner_indexed\",\"Dependents_indexed\",\"PhoneService_indexed\",\"MultipleLines_indexed\",\"InternetService_indexed\",\"OnlineSecurity_indexed\",\"OnlineBackup_indexed\",\"DeviceProtection_indexed\",\"TechSupport_indexed\",\"StreamingTV_indexed\",\"StreamingMovies_indexed\",\"Contract_indexed\",\"PaperlessBilling_indexed\",\"PaymentMethod_indexed\"],\"xaxis\":\"x\",\"y\":[0.20753761020590825,0.01385123867305721,0.005029446032347224,0.0012458380271707754,0.005061505966322666,0.0,0.005199436353121311,0.01366052515814035,0.01886958920289686,0.1456573085640415,0.03365494880670868,0.0,0.0,0.0025086634426406532,0.011532687359842643,0.010285800594289672,0.5047521232804218,0.0025706057498663584,0.01858267258322399],\"yaxis\":\"y\",\"type\":\"bar\"}],                        {\"template\":{\"data\":{\"histogram2dcontour\":[{\"type\":\"histogram2dcontour\",\"colorbar\":{\"outlinewidth\":0,\"ticks\":\"\"},\"colorscale\":[[0.0,\"#0d0887\"],[0.1111111111111111,\"#46039f\"],[0.2222222222222222,\"#7201a8\"],[0.3333333333333333,\"#9c179e\"],[0.4444444444444444,\"#bd3786\"],[0.5555555555555556,\"#d8576b\"],[0.6666666666666666,\"#ed7953\"],[0.7777777777777778,\"#fb9f3a\"],[0.8888888888888888,\"#fdca26\"],[1.0,\"#f0f921\"]]}],\"choropleth\":[{\"type\":\"choropleth\",\"colorbar\":{\"outlinewidth\":0,\"ticks\":\"\"}}],\"histogram2d\":[{\"type\":\"histogram2d\",\"colorbar\":{\"outlinewidth\":0,\"ticks\":\"\"},\"colorscale\":[[0.0,\"#0d0887\"],[0.1111111111111111,\"#46039f\"],[0.2222222222222222,\"#7201a8\"],[0.3333333333333333,\"#9c179e\"],[0.4444444444444444,\"#bd3786\"],[0.5555555555555556,\"#d8576b\"],[0.6666666666666666,\"#ed7953\"],[0.7777777777777778,\"#fb9f3a\"],[0.8888888888888888,\"#fdca26\"],[1.0,\"#f0f921\"]]}],\"heatmap\":[{\"type\":\"heatmap\",\"colorbar\":{\"outlinewidth\":0,\"ticks\":\"\"},\"colorscale\":[[0.0,\"#0d0887\"],[0.1111111111111111,\"#46039f\"],[0.2222222222222222,\"#7201a8\"],[0.3333333333333333,\"#9c179e\"],[0.4444444444444444,\"#bd3786\"],[0.5555555555555556,\"#d8576b\"],[0.6666666666666666,\"#ed7953\"],[0.7777777777777778,\"#fb9f3a\"],[0.8888888888888888,\"#fdca26\"],[1.0,\"#f0f921\"]]}],\"heatmapgl\":[{\"type\":\"heatmapgl\",\"colorbar\":{\"outlinewidth\":0,\"ticks\":\"\"},\"colorscale\":[[0.0,\"#0d0887\"],[0.1111111111111111,\"#46039f\"],[0.2222222222222222,\"#7201a8\"],[0.3333333333333333,\"#9c179e\"],[0.4444444444444444,\"#bd3786\"],[0.5555555555555556,\"#d8576b\"],[0.6666666666666666,\"#ed7953\"],[0.7777777777777778,\"#fb9f3a\"],[0.8888888888888888,\"#fdca26\"],[1.0,\"#f0f921\"]]}],\"contourcarpet\":[{\"type\":\"contourcarpet\",\"colorbar\":{\"outlinewidth\":0,\"ticks\":\"\"}}],\"contour\":[{\"type\":\"contour\",\"colorbar\":{\"outlinewidth\":0,\"ticks\":\"\"},\"colorscale\":[[0.0,\"#0d0887\"],[0.1111111111111111,\"#46039f\"],[0.2222222222222222,\"#7201a8\"],[0.3333333333333333,\"#9c179e\"],[0.4444444444444444,\"#bd3786\"],[0.5555555555555556,\"#d8576b\"],[0.6666666666666666,\"#ed7953\"],[0.7777777777777778,\"#fb9f3a\"],[0.8888888888888888,\"#fdca26\"],[1.0,\"#f0f921\"]]}],\"surface\":[{\"type\":\"surface\",\"colorbar\":{\"outlinewidth\":0,\"ticks\":\"\"},\"colorscale\":[[0.0,\"#0d0887\"],[0.1111111111111111,\"#46039f\"],[0.2222222222222222,\"#7201a8\"],[0.3333333333333333,\"#9c179e\"],[0.4444444444444444,\"#bd3786\"],[0.5555555555555556,\"#d8576b\"],[0.6666666666666666,\"#ed7953\"],[0.7777777777777778,\"#fb9f3a\"],[0.8888888888888888,\"#fdca26\"],[1.0,\"#f0f921\"]]}],\"mesh3d\":[{\"type\":\"mesh3d\",\"colorbar\":{\"outlinewidth\":0,\"ticks\":\"\"}}],\"scatter\":[{\"fillpattern\":{\"fillmode\":\"overlay\",\"size\":10,\"solidity\":0.2},\"type\":\"scatter\"}],\"parcoords\":[{\"type\":\"parcoords\",\"line\":{\"colorbar\":{\"outlinewidth\":0,\"ticks\":\"\"}}}],\"scatterpolargl\":[{\"type\":\"scatterpolargl\",\"marker\":{\"colorbar\":{\"outlinewidth\":0,\"ticks\":\"\"}}}],\"bar\":[{\"error_x\":{\"color\":\"#2a3f5f\"},\"error_y\":{\"color\":\"#2a3f5f\"},\"marker\":{\"line\":{\"color\":\"#E5ECF6\",\"width\":0.5},\"pattern\":{\"fillmode\":\"overlay\",\"size\":10,\"solidity\":0.2}},\"type\":\"bar\"}],\"scattergeo\":[{\"type\":\"scattergeo\",\"marker\":{\"colorbar\":{\"outlinewidth\":0,\"ticks\":\"\"}}}],\"scatterpolar\":[{\"type\":\"scatterpolar\",\"marker\":{\"colorbar\":{\"outlinewidth\":0,\"ticks\":\"\"}}}],\"histogram\":[{\"marker\":{\"pattern\":{\"fillmode\":\"overlay\",\"size\":10,\"solidity\":0.2}},\"type\":\"histogram\"}],\"scattergl\":[{\"type\":\"scattergl\",\"marker\":{\"colorbar\":{\"outlinewidth\":0,\"ticks\":\"\"}}}],\"scatter3d\":[{\"type\":\"scatter3d\",\"line\":{\"colorbar\":{\"outlinewidth\":0,\"ticks\":\"\"}},\"marker\":{\"colorbar\":{\"outlinewidth\":0,\"ticks\":\"\"}}}],\"scattermapbox\":[{\"type\":\"scattermapbox\",\"marker\":{\"colorbar\":{\"outlinewidth\":0,\"ticks\":\"\"}}}],\"scatterternary\":[{\"type\":\"scatterternary\",\"marker\":{\"colorbar\":{\"outlinewidth\":0,\"ticks\":\"\"}}}],\"scattercarpet\":[{\"type\":\"scattercarpet\",\"marker\":{\"colorbar\":{\"outlinewidth\":0,\"ticks\":\"\"}}}],\"carpet\":[{\"aaxis\":{\"endlinecolor\":\"#2a3f5f\",\"gridcolor\":\"white\",\"linecolor\":\"white\",\"minorgridcolor\":\"white\",\"startlinecolor\":\"#2a3f5f\"},\"baxis\":{\"endlinecolor\":\"#2a3f5f\",\"gridcolor\":\"white\",\"linecolor\":\"white\",\"minorgridcolor\":\"white\",\"startlinecolor\":\"#2a3f5f\"},\"type\":\"carpet\"}],\"table\":[{\"cells\":{\"fill\":{\"color\":\"#EBF0F8\"},\"line\":{\"color\":\"white\"}},\"header\":{\"fill\":{\"color\":\"#C8D4E3\"},\"line\":{\"color\":\"white\"}},\"type\":\"table\"}],\"barpolar\":[{\"marker\":{\"line\":{\"color\":\"#E5ECF6\",\"width\":0.5},\"pattern\":{\"fillmode\":\"overlay\",\"size\":10,\"solidity\":0.2}},\"type\":\"barpolar\"}],\"pie\":[{\"automargin\":true,\"type\":\"pie\"}]},\"layout\":{\"autotypenumbers\":\"strict\",\"colorway\":[\"#636efa\",\"#EF553B\",\"#00cc96\",\"#ab63fa\",\"#FFA15A\",\"#19d3f3\",\"#FF6692\",\"#B6E880\",\"#FF97FF\",\"#FECB52\"],\"font\":{\"color\":\"#2a3f5f\"},\"hovermode\":\"closest\",\"hoverlabel\":{\"align\":\"left\"},\"paper_bgcolor\":\"white\",\"plot_bgcolor\":\"#E5ECF6\",\"polar\":{\"bgcolor\":\"#E5ECF6\",\"angularaxis\":{\"gridcolor\":\"white\",\"linecolor\":\"white\",\"ticks\":\"\"},\"radialaxis\":{\"gridcolor\":\"white\",\"linecolor\":\"white\",\"ticks\":\"\"}},\"ternary\":{\"bgcolor\":\"#E5ECF6\",\"aaxis\":{\"gridcolor\":\"white\",\"linecolor\":\"white\",\"ticks\":\"\"},\"baxis\":{\"gridcolor\":\"white\",\"linecolor\":\"white\",\"ticks\":\"\"},\"caxis\":{\"gridcolor\":\"white\",\"linecolor\":\"white\",\"ticks\":\"\"}},\"coloraxis\":{\"colorbar\":{\"outlinewidth\":0,\"ticks\":\"\"}},\"colorscale\":{\"sequential\":[[0.0,\"#0d0887\"],[0.1111111111111111,\"#46039f\"],[0.2222222222222222,\"#7201a8\"],[0.3333333333333333,\"#9c179e\"],[0.4444444444444444,\"#bd3786\"],[0.5555555555555556,\"#d8576b\"],[0.6666666666666666,\"#ed7953\"],[0.7777777777777778,\"#fb9f3a\"],[0.8888888888888888,\"#fdca26\"],[1.0,\"#f0f921\"]],\"sequentialminus\":[[0.0,\"#0d0887\"],[0.1111111111111111,\"#46039f\"],[0.2222222222222222,\"#7201a8\"],[0.3333333333333333,\"#9c179e\"],[0.4444444444444444,\"#bd3786\"],[0.5555555555555556,\"#d8576b\"],[0.6666666666666666,\"#ed7953\"],[0.7777777777777778,\"#fb9f3a\"],[0.8888888888888888,\"#fdca26\"],[1.0,\"#f0f921\"]],\"diverging\":[[0,\"#8e0152\"],[0.1,\"#c51b7d\"],[0.2,\"#de77ae\"],[0.3,\"#f1b6da\"],[0.4,\"#fde0ef\"],[0.5,\"#f7f7f7\"],[0.6,\"#e6f5d0\"],[0.7,\"#b8e186\"],[0.8,\"#7fbc41\"],[0.9,\"#4d9221\"],[1,\"#276419\"]]},\"xaxis\":{\"gridcolor\":\"white\",\"linecolor\":\"white\",\"ticks\":\"\",\"title\":{\"standoff\":15},\"zerolinecolor\":\"white\",\"automargin\":true,\"zerolinewidth\":2},\"yaxis\":{\"gridcolor\":\"white\",\"linecolor\":\"white\",\"ticks\":\"\",\"title\":{\"standoff\":15},\"zerolinecolor\":\"white\",\"automargin\":true,\"zerolinewidth\":2},\"scene\":{\"xaxis\":{\"backgroundcolor\":\"#E5ECF6\",\"gridcolor\":\"white\",\"linecolor\":\"white\",\"showbackground\":true,\"ticks\":\"\",\"zerolinecolor\":\"white\",\"gridwidth\":2},\"yaxis\":{\"backgroundcolor\":\"#E5ECF6\",\"gridcolor\":\"white\",\"linecolor\":\"white\",\"showbackground\":true,\"ticks\":\"\",\"zerolinecolor\":\"white\",\"gridwidth\":2},\"zaxis\":{\"backgroundcolor\":\"#E5ECF6\",\"gridcolor\":\"white\",\"linecolor\":\"white\",\"showbackground\":true,\"ticks\":\"\",\"zerolinecolor\":\"white\",\"gridwidth\":2}},\"shapedefaults\":{\"line\":{\"color\":\"#2a3f5f\"}},\"annotationdefaults\":{\"arrowcolor\":\"#2a3f5f\",\"arrowhead\":0,\"arrowwidth\":1},\"geo\":{\"bgcolor\":\"white\",\"landcolor\":\"#E5ECF6\",\"subunitcolor\":\"white\",\"showland\":true,\"showlakes\":true,\"lakecolor\":\"white\"},\"title\":{\"x\":0.05},\"mapbox\":{\"style\":\"light\"}}},\"xaxis\":{\"anchor\":\"y\",\"domain\":[0.0,1.0],\"title\":{\"text\":\"index\"}},\"yaxis\":{\"anchor\":\"x\",\"domain\":[0.0,1.0],\"title\":{\"text\":\"value\"}},\"legend\":{\"title\":{\"text\":\"variable\"},\"tracegroupgap\":0},\"margin\":{\"t\":60},\"barmode\":\"relative\"},                        {\"responsive\": true}                    ).then(function(){\n",
              "                            \n",
              "var gd = document.getElementById('bedc1f4b-ec8d-4480-a5ae-f76b1c8813e3');\n",
              "var x = new MutationObserver(function (mutations, observer) {{\n",
              "        var display = window.getComputedStyle(gd).display;\n",
              "        if (!display || display === 'none') {{\n",
              "            console.log([gd, 'removed!']);\n",
              "            Plotly.purge(gd);\n",
              "            observer.disconnect();\n",
              "        }}\n",
              "}});\n",
              "\n",
              "// Listen for the removal of the full notebook cells\n",
              "var notebookContainer = gd.closest('#notebook-container');\n",
              "if (notebookContainer) {{\n",
              "    x.observe(notebookContainer, {childList: true});\n",
              "}}\n",
              "\n",
              "// Listen for the clearing of the current output cell\n",
              "var outputEl = gd.closest('.output');\n",
              "if (outputEl) {{\n",
              "    x.observe(outputEl, {childList: true});\n",
              "}}\n",
              "\n",
              "                        })                };                            </script>        </div>\n",
              "</body>\n",
              "</html>"
            ]
          },
          "metadata": {}
        }
      ],
      "source": [
        "feature_importance = model.featureImportances\n",
        "df = pd.DataFrame([score for score in feature_importance], columns = [\"score\"], index = numerical_columns + categotical_columns_indexed)\n",
        "px.bar(df)"
      ]
    },
    {
      "cell_type": "markdown",
      "metadata": {
        "id": "n_FrIiJwWuwg"
      },
      "source": [
        "Let's create a bar chart to visualize the customer churn per contract type"
      ]
    },
    {
      "cell_type": "code",
      "execution_count": 50,
      "metadata": {
        "colab": {
          "base_uri": "https://localhost:8080/",
          "height": 542
        },
        "id": "V4eObw2aK7Qp",
        "outputId": "5ee67cf7-5bc6-441b-f887-281b9070968c"
      },
      "outputs": [
        {
          "output_type": "display_data",
          "data": {
            "text/html": [
              "<html>\n",
              "<head><meta charset=\"utf-8\" /></head>\n",
              "<body>\n",
              "    <div>            <script src=\"https://cdnjs.cloudflare.com/ajax/libs/mathjax/2.7.5/MathJax.js?config=TeX-AMS-MML_SVG\"></script><script type=\"text/javascript\">if (window.MathJax && window.MathJax.Hub && window.MathJax.Hub.Config) {window.MathJax.Hub.Config({SVG: {font: \"STIX-Web\"}});}</script>                <script type=\"text/javascript\">window.PlotlyConfig = {MathJaxConfig: 'local'};</script>\n",
              "        <script charset=\"utf-8\" src=\"https://cdn.plot.ly/plotly-2.24.1.min.js\"></script>                <div id=\"3fe0ff4a-e824-4133-8817-f81f621675cb\" class=\"plotly-graph-div\" style=\"height:525px; width:100%;\"></div>            <script type=\"text/javascript\">                                    window.PLOTLYENV=window.PLOTLYENV || {};                                    if (document.getElementById(\"3fe0ff4a-e824-4133-8817-f81f621675cb\")) {                    Plotly.newPlot(                        \"3fe0ff4a-e824-4133-8817-f81f621675cb\",                        [{\"alignmentgroup\":\"True\",\"hovertemplate\":\"Churn=No\\u003cbr\\u003eContract=%{x}\\u003cbr\\u003ecount=%{y}\\u003cextra\\u003e\\u003c\\u002fextra\\u003e\",\"legendgroup\":\"No\",\"marker\":{\"color\":\"#636efa\",\"pattern\":{\"shape\":\"\"}},\"name\":\"No\",\"offsetgroup\":\"No\",\"orientation\":\"v\",\"showlegend\":true,\"textposition\":\"auto\",\"x\":[\"Month-to-month\",\"One year\",\"Two year\"],\"xaxis\":\"x\",\"y\":[2219,1307,1647],\"yaxis\":\"y\",\"type\":\"bar\"},{\"alignmentgroup\":\"True\",\"hovertemplate\":\"Churn=Yes\\u003cbr\\u003eContract=%{x}\\u003cbr\\u003ecount=%{y}\\u003cextra\\u003e\\u003c\\u002fextra\\u003e\",\"legendgroup\":\"Yes\",\"marker\":{\"color\":\"#EF553B\",\"pattern\":{\"shape\":\"\"}},\"name\":\"Yes\",\"offsetgroup\":\"Yes\",\"orientation\":\"v\",\"showlegend\":true,\"textposition\":\"auto\",\"x\":[\"Month-to-month\",\"Two year\",\"One year\"],\"xaxis\":\"x\",\"y\":[1655,48,166],\"yaxis\":\"y\",\"type\":\"bar\"}],                        {\"template\":{\"data\":{\"histogram2dcontour\":[{\"type\":\"histogram2dcontour\",\"colorbar\":{\"outlinewidth\":0,\"ticks\":\"\"},\"colorscale\":[[0.0,\"#0d0887\"],[0.1111111111111111,\"#46039f\"],[0.2222222222222222,\"#7201a8\"],[0.3333333333333333,\"#9c179e\"],[0.4444444444444444,\"#bd3786\"],[0.5555555555555556,\"#d8576b\"],[0.6666666666666666,\"#ed7953\"],[0.7777777777777778,\"#fb9f3a\"],[0.8888888888888888,\"#fdca26\"],[1.0,\"#f0f921\"]]}],\"choropleth\":[{\"type\":\"choropleth\",\"colorbar\":{\"outlinewidth\":0,\"ticks\":\"\"}}],\"histogram2d\":[{\"type\":\"histogram2d\",\"colorbar\":{\"outlinewidth\":0,\"ticks\":\"\"},\"colorscale\":[[0.0,\"#0d0887\"],[0.1111111111111111,\"#46039f\"],[0.2222222222222222,\"#7201a8\"],[0.3333333333333333,\"#9c179e\"],[0.4444444444444444,\"#bd3786\"],[0.5555555555555556,\"#d8576b\"],[0.6666666666666666,\"#ed7953\"],[0.7777777777777778,\"#fb9f3a\"],[0.8888888888888888,\"#fdca26\"],[1.0,\"#f0f921\"]]}],\"heatmap\":[{\"type\":\"heatmap\",\"colorbar\":{\"outlinewidth\":0,\"ticks\":\"\"},\"colorscale\":[[0.0,\"#0d0887\"],[0.1111111111111111,\"#46039f\"],[0.2222222222222222,\"#7201a8\"],[0.3333333333333333,\"#9c179e\"],[0.4444444444444444,\"#bd3786\"],[0.5555555555555556,\"#d8576b\"],[0.6666666666666666,\"#ed7953\"],[0.7777777777777778,\"#fb9f3a\"],[0.8888888888888888,\"#fdca26\"],[1.0,\"#f0f921\"]]}],\"heatmapgl\":[{\"type\":\"heatmapgl\",\"colorbar\":{\"outlinewidth\":0,\"ticks\":\"\"},\"colorscale\":[[0.0,\"#0d0887\"],[0.1111111111111111,\"#46039f\"],[0.2222222222222222,\"#7201a8\"],[0.3333333333333333,\"#9c179e\"],[0.4444444444444444,\"#bd3786\"],[0.5555555555555556,\"#d8576b\"],[0.6666666666666666,\"#ed7953\"],[0.7777777777777778,\"#fb9f3a\"],[0.8888888888888888,\"#fdca26\"],[1.0,\"#f0f921\"]]}],\"contourcarpet\":[{\"type\":\"contourcarpet\",\"colorbar\":{\"outlinewidth\":0,\"ticks\":\"\"}}],\"contour\":[{\"type\":\"contour\",\"colorbar\":{\"outlinewidth\":0,\"ticks\":\"\"},\"colorscale\":[[0.0,\"#0d0887\"],[0.1111111111111111,\"#46039f\"],[0.2222222222222222,\"#7201a8\"],[0.3333333333333333,\"#9c179e\"],[0.4444444444444444,\"#bd3786\"],[0.5555555555555556,\"#d8576b\"],[0.6666666666666666,\"#ed7953\"],[0.7777777777777778,\"#fb9f3a\"],[0.8888888888888888,\"#fdca26\"],[1.0,\"#f0f921\"]]}],\"surface\":[{\"type\":\"surface\",\"colorbar\":{\"outlinewidth\":0,\"ticks\":\"\"},\"colorscale\":[[0.0,\"#0d0887\"],[0.1111111111111111,\"#46039f\"],[0.2222222222222222,\"#7201a8\"],[0.3333333333333333,\"#9c179e\"],[0.4444444444444444,\"#bd3786\"],[0.5555555555555556,\"#d8576b\"],[0.6666666666666666,\"#ed7953\"],[0.7777777777777778,\"#fb9f3a\"],[0.8888888888888888,\"#fdca26\"],[1.0,\"#f0f921\"]]}],\"mesh3d\":[{\"type\":\"mesh3d\",\"colorbar\":{\"outlinewidth\":0,\"ticks\":\"\"}}],\"scatter\":[{\"fillpattern\":{\"fillmode\":\"overlay\",\"size\":10,\"solidity\":0.2},\"type\":\"scatter\"}],\"parcoords\":[{\"type\":\"parcoords\",\"line\":{\"colorbar\":{\"outlinewidth\":0,\"ticks\":\"\"}}}],\"scatterpolargl\":[{\"type\":\"scatterpolargl\",\"marker\":{\"colorbar\":{\"outlinewidth\":0,\"ticks\":\"\"}}}],\"bar\":[{\"error_x\":{\"color\":\"#2a3f5f\"},\"error_y\":{\"color\":\"#2a3f5f\"},\"marker\":{\"line\":{\"color\":\"#E5ECF6\",\"width\":0.5},\"pattern\":{\"fillmode\":\"overlay\",\"size\":10,\"solidity\":0.2}},\"type\":\"bar\"}],\"scattergeo\":[{\"type\":\"scattergeo\",\"marker\":{\"colorbar\":{\"outlinewidth\":0,\"ticks\":\"\"}}}],\"scatterpolar\":[{\"type\":\"scatterpolar\",\"marker\":{\"colorbar\":{\"outlinewidth\":0,\"ticks\":\"\"}}}],\"histogram\":[{\"marker\":{\"pattern\":{\"fillmode\":\"overlay\",\"size\":10,\"solidity\":0.2}},\"type\":\"histogram\"}],\"scattergl\":[{\"type\":\"scattergl\",\"marker\":{\"colorbar\":{\"outlinewidth\":0,\"ticks\":\"\"}}}],\"scatter3d\":[{\"type\":\"scatter3d\",\"line\":{\"colorbar\":{\"outlinewidth\":0,\"ticks\":\"\"}},\"marker\":{\"colorbar\":{\"outlinewidth\":0,\"ticks\":\"\"}}}],\"scattermapbox\":[{\"type\":\"scattermapbox\",\"marker\":{\"colorbar\":{\"outlinewidth\":0,\"ticks\":\"\"}}}],\"scatterternary\":[{\"type\":\"scatterternary\",\"marker\":{\"colorbar\":{\"outlinewidth\":0,\"ticks\":\"\"}}}],\"scattercarpet\":[{\"type\":\"scattercarpet\",\"marker\":{\"colorbar\":{\"outlinewidth\":0,\"ticks\":\"\"}}}],\"carpet\":[{\"aaxis\":{\"endlinecolor\":\"#2a3f5f\",\"gridcolor\":\"white\",\"linecolor\":\"white\",\"minorgridcolor\":\"white\",\"startlinecolor\":\"#2a3f5f\"},\"baxis\":{\"endlinecolor\":\"#2a3f5f\",\"gridcolor\":\"white\",\"linecolor\":\"white\",\"minorgridcolor\":\"white\",\"startlinecolor\":\"#2a3f5f\"},\"type\":\"carpet\"}],\"table\":[{\"cells\":{\"fill\":{\"color\":\"#EBF0F8\"},\"line\":{\"color\":\"white\"}},\"header\":{\"fill\":{\"color\":\"#C8D4E3\"},\"line\":{\"color\":\"white\"}},\"type\":\"table\"}],\"barpolar\":[{\"marker\":{\"line\":{\"color\":\"#E5ECF6\",\"width\":0.5},\"pattern\":{\"fillmode\":\"overlay\",\"size\":10,\"solidity\":0.2}},\"type\":\"barpolar\"}],\"pie\":[{\"automargin\":true,\"type\":\"pie\"}]},\"layout\":{\"autotypenumbers\":\"strict\",\"colorway\":[\"#636efa\",\"#EF553B\",\"#00cc96\",\"#ab63fa\",\"#FFA15A\",\"#19d3f3\",\"#FF6692\",\"#B6E880\",\"#FF97FF\",\"#FECB52\"],\"font\":{\"color\":\"#2a3f5f\"},\"hovermode\":\"closest\",\"hoverlabel\":{\"align\":\"left\"},\"paper_bgcolor\":\"white\",\"plot_bgcolor\":\"#E5ECF6\",\"polar\":{\"bgcolor\":\"#E5ECF6\",\"angularaxis\":{\"gridcolor\":\"white\",\"linecolor\":\"white\",\"ticks\":\"\"},\"radialaxis\":{\"gridcolor\":\"white\",\"linecolor\":\"white\",\"ticks\":\"\"}},\"ternary\":{\"bgcolor\":\"#E5ECF6\",\"aaxis\":{\"gridcolor\":\"white\",\"linecolor\":\"white\",\"ticks\":\"\"},\"baxis\":{\"gridcolor\":\"white\",\"linecolor\":\"white\",\"ticks\":\"\"},\"caxis\":{\"gridcolor\":\"white\",\"linecolor\":\"white\",\"ticks\":\"\"}},\"coloraxis\":{\"colorbar\":{\"outlinewidth\":0,\"ticks\":\"\"}},\"colorscale\":{\"sequential\":[[0.0,\"#0d0887\"],[0.1111111111111111,\"#46039f\"],[0.2222222222222222,\"#7201a8\"],[0.3333333333333333,\"#9c179e\"],[0.4444444444444444,\"#bd3786\"],[0.5555555555555556,\"#d8576b\"],[0.6666666666666666,\"#ed7953\"],[0.7777777777777778,\"#fb9f3a\"],[0.8888888888888888,\"#fdca26\"],[1.0,\"#f0f921\"]],\"sequentialminus\":[[0.0,\"#0d0887\"],[0.1111111111111111,\"#46039f\"],[0.2222222222222222,\"#7201a8\"],[0.3333333333333333,\"#9c179e\"],[0.4444444444444444,\"#bd3786\"],[0.5555555555555556,\"#d8576b\"],[0.6666666666666666,\"#ed7953\"],[0.7777777777777778,\"#fb9f3a\"],[0.8888888888888888,\"#fdca26\"],[1.0,\"#f0f921\"]],\"diverging\":[[0,\"#8e0152\"],[0.1,\"#c51b7d\"],[0.2,\"#de77ae\"],[0.3,\"#f1b6da\"],[0.4,\"#fde0ef\"],[0.5,\"#f7f7f7\"],[0.6,\"#e6f5d0\"],[0.7,\"#b8e186\"],[0.8,\"#7fbc41\"],[0.9,\"#4d9221\"],[1,\"#276419\"]]},\"xaxis\":{\"gridcolor\":\"white\",\"linecolor\":\"white\",\"ticks\":\"\",\"title\":{\"standoff\":15},\"zerolinecolor\":\"white\",\"automargin\":true,\"zerolinewidth\":2},\"yaxis\":{\"gridcolor\":\"white\",\"linecolor\":\"white\",\"ticks\":\"\",\"title\":{\"standoff\":15},\"zerolinecolor\":\"white\",\"automargin\":true,\"zerolinewidth\":2},\"scene\":{\"xaxis\":{\"backgroundcolor\":\"#E5ECF6\",\"gridcolor\":\"white\",\"linecolor\":\"white\",\"showbackground\":true,\"ticks\":\"\",\"zerolinecolor\":\"white\",\"gridwidth\":2},\"yaxis\":{\"backgroundcolor\":\"#E5ECF6\",\"gridcolor\":\"white\",\"linecolor\":\"white\",\"showbackground\":true,\"ticks\":\"\",\"zerolinecolor\":\"white\",\"gridwidth\":2},\"zaxis\":{\"backgroundcolor\":\"#E5ECF6\",\"gridcolor\":\"white\",\"linecolor\":\"white\",\"showbackground\":true,\"ticks\":\"\",\"zerolinecolor\":\"white\",\"gridwidth\":2}},\"shapedefaults\":{\"line\":{\"color\":\"#2a3f5f\"}},\"annotationdefaults\":{\"arrowcolor\":\"#2a3f5f\",\"arrowhead\":0,\"arrowwidth\":1},\"geo\":{\"bgcolor\":\"white\",\"landcolor\":\"#E5ECF6\",\"subunitcolor\":\"white\",\"showland\":true,\"showlakes\":true,\"lakecolor\":\"white\"},\"title\":{\"x\":0.05},\"mapbox\":{\"style\":\"light\"}}},\"xaxis\":{\"anchor\":\"y\",\"domain\":[0.0,1.0],\"title\":{\"text\":\"Contract\"}},\"yaxis\":{\"anchor\":\"x\",\"domain\":[0.0,1.0],\"title\":{\"text\":\"count\"}},\"legend\":{\"title\":{\"text\":\"Churn\"},\"tracegroupgap\":0},\"margin\":{\"t\":60},\"barmode\":\"relative\"},                        {\"responsive\": true}                    ).then(function(){\n",
              "                            \n",
              "var gd = document.getElementById('3fe0ff4a-e824-4133-8817-f81f621675cb');\n",
              "var x = new MutationObserver(function (mutations, observer) {{\n",
              "        var display = window.getComputedStyle(gd).display;\n",
              "        if (!display || display === 'none') {{\n",
              "            console.log([gd, 'removed!']);\n",
              "            Plotly.purge(gd);\n",
              "            observer.disconnect();\n",
              "        }}\n",
              "}});\n",
              "\n",
              "// Listen for the removal of the full notebook cells\n",
              "var notebookContainer = gd.closest('#notebook-container');\n",
              "if (notebookContainer) {{\n",
              "    x.observe(notebookContainer, {childList: true});\n",
              "}}\n",
              "\n",
              "// Listen for the clearing of the current output cell\n",
              "var outputEl = gd.closest('.output');\n",
              "if (outputEl) {{\n",
              "    x.observe(outputEl, {childList: true});\n",
              "}}\n",
              "\n",
              "                        })                };                            </script>        </div>\n",
              "</body>\n",
              "</html>"
            ]
          },
          "metadata": {}
        }
      ],
      "source": [
        "df = data.groupby([\"Contract\", \"Churn\"]).count().toPandas()\n",
        "px.bar(df, x = \"Contract\", y = \"count\", color = \"Churn\")"
      ]
    },
    {
      "cell_type": "markdown",
      "metadata": {
        "id": "MhaY0_iA6pp1"
      },
      "source": [
        "The bar chart displays the number of churned customers based on their contract type. It is evident that customers with a \"Month-to-month\" contract have a higher churn rate compared to those with \"One year\" or \"Two year\" contracts. As a recommendation, the telecommunication company could consider offering incentives or discounts to encourage customers with month-to-month contracts to switch to longer-term contracts."
      ]
    }
  ],
  "metadata": {
    "colab": {
      "provenance": []
    },
    "kernelspec": {
      "display_name": "Python 3",
      "language": "python",
      "name": "python3"
    },
    "language_info": {
      "codemirror_mode": {
        "name": "ipython",
        "version": 3
      },
      "file_extension": ".py",
      "mimetype": "text/x-python",
      "name": "python",
      "nbconvert_exporter": "python",
      "pygments_lexer": "ipython3",
      "version": "3.8.10"
    }
  },
  "nbformat": 4,
  "nbformat_minor": 0
}